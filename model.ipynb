{
 "cells": [
  {
   "cell_type": "code",
   "execution_count": 1,
   "id": "c589301b",
   "metadata": {},
   "outputs": [],
   "source": [
    "import tensorflow as tf\n",
    "from keras_preprocessing import image\n",
    "from keras_preprocessing.image import ImageDataGenerator\n",
    "\n",
    "import os\n",
    "import stat\n",
    "import math\n",
    "import random\n",
    "import shutil\n",
    "\n",
    "from tqdm import tqdm"
   ]
  },
  {
   "cell_type": "markdown",
   "id": "c9a4b37e",
   "metadata": {},
   "source": [
    "## Code Start"
   ]
  },
  {
   "cell_type": "code",
   "execution_count": 2,
   "id": "6be251aa",
   "metadata": {},
   "outputs": [],
   "source": [
    "PLACEHOLDER_DIR = './Data/Placeholder/'\n",
    "TRAINING_DIR = './Data/Training/'\n",
    "TESTING_DIR = './Data/Testing/'\n",
    "DEV_DIR = './Data/Dev/'\n",
    "\n",
    "SPLIT_DIST = 0.1\n",
    "\n",
    "batik_classes = os.listdir(PLACEHOLDER_DIR)"
   ]
  },
  {
   "cell_type": "markdown",
   "id": "b00bdd7d",
   "metadata": {},
   "source": [
    "## Changing file permission"
   ]
  },
  {
   "cell_type": "code",
   "execution_count": null,
   "id": "1c215b6c",
   "metadata": {
    "tags": []
   },
   "outputs": [],
   "source": [
    "for batik_class in batik_classes:\n",
    "    dir = os.path.join(PLACEHOLDER_DIR, batik_class)\n",
    "    dir_content = os.listdir(dir)\n",
    "\n",
    "    for image in tqdm(dir_content, ascii = False, desc = batik_class):\n",
    "        dst_dir = os.path.join(dir, image)\n",
    "        os.chmod(dst_dir, stat.S_IRWXU)"
   ]
  },
  {
   "cell_type": "markdown",
   "id": "24b7311f",
   "metadata": {},
   "source": [
    "----------------------------------------------\n",
    "# !RUN WITH CAUTION!\n",
    "## Data Splitting\n",
    " Making the DIR necessary for storing images and spreading it from PLACEHOLDER_DIR to apropriate dir"
   ]
  },
  {
   "cell_type": "code",
   "execution_count": 5,
   "id": "351753a0",
   "metadata": {
    "tags": []
   },
   "outputs": [
    {
     "name": "stderr",
     "output_type": "stream",
     "text": [
      "batik-bali:   8%|█████▊                                                                 | 4/49 [00:00<00:01, 26.31it/s]"
     ]
    },
    {
     "name": "stdout",
     "output_type": "stream",
     "text": [
      "Data subdir folder already exist\n"
     ]
    },
    {
     "name": "stderr",
     "output_type": "stream",
     "text": [
      "batik-bali: 100%|██████████████████████████████████████████████████████████████████████| 49/49 [00:01<00:00, 41.93it/s]\n",
      "batik-betawi: 100%|████████████████████████████████████████████████████████████████████| 43/43 [00:00<00:00, 71.15it/s]\n",
      "batik-celup: 100%|█████████████████████████████████████████████████████████████████████| 27/27 [00:00<00:00, 90.58it/s]\n",
      "batik-cendrawasih: 100%|███████████████████████████████████████████████████████████████| 25/25 [00:00<00:00, 88.51it/s]\n",
      "batik-ceplok: 100%|████████████████████████████████████████████████████████████████████| 30/30 [00:01<00:00, 27.56it/s]\n",
      "batik-ciamis: 100%|████████████████████████████████████████████████████████████████████| 34/34 [00:00<00:00, 82.42it/s]\n",
      "batik-garutan: 100%|███████████████████████████████████████████████████████████████████| 31/31 [00:00<00:00, 72.16it/s]\n",
      "batik-gentongan: 100%|█████████████████████████████████████████████████████████████████| 36/36 [00:00<00:00, 63.49it/s]\n",
      "batik-kawung: 100%|████████████████████████████████████████████████████████████████████| 40/40 [00:00<00:00, 61.60it/s]\n",
      "batik-keraton: 100%|███████████████████████████████████████████████████████████████████| 36/36 [00:00<00:00, 58.00it/s]\n",
      "batik-lasem: 100%|█████████████████████████████████████████████████████████████████████| 46/46 [00:00<00:00, 82.57it/s]\n",
      "batik-megamendung: 100%|███████████████████████████████████████████████████████████████| 46/46 [00:00<00:00, 69.02it/s]\n",
      "batik-parang: 100%|████████████████████████████████████████████████████████████████████| 45/45 [00:00<00:00, 71.08it/s]\n",
      "batik-pekalongan: 100%|████████████████████████████████████████████████████████████████| 47/47 [00:01<00:00, 41.57it/s]\n",
      "batik-priangan: 100%|██████████████████████████████████████████████████████████████████| 38/38 [00:00<00:00, 78.87it/s]\n",
      "batik-sekar: 100%|█████████████████████████████████████████████████████████████████████| 24/24 [00:00<00:00, 41.74it/s]\n",
      "batik-sidoluhur: 100%|█████████████████████████████████████████████████████████████████| 45/45 [00:00<00:00, 94.13it/s]\n",
      "batik-sidomukti: 100%|█████████████████████████████████████████████████████████████████| 34/34 [00:00<00:00, 51.07it/s]\n",
      "batik-sogan: 100%|█████████████████████████████████████████████████████████████████████| 23/23 [00:00<00:00, 60.83it/s]\n",
      "batik-tambal: 100%|████████████████████████████████████████████████████████████████████| 31/31 [00:00<00:00, 70.61it/s]\n"
     ]
    }
   ],
   "source": [
    "# MKDIR data subdir\n",
    "try:\n",
    "    os.mkdir(TRAINING_DIR)\n",
    "    os.mkdir(TESTING_DIR)\n",
    "    os.mkdir(DEV_DIR)\n",
    "except:\n",
    "    print('Data subdir folder already exist')\n",
    "\n",
    "# MKDIR working subdir\n",
    "for batik_class in batik_classes:\n",
    "    try:\n",
    "        dir = os.path.join(TRAINING_DIR, batik_class)\n",
    "        os.mkdir(dir)\n",
    "\n",
    "        dir = os.path.join(TESTING_DIR, batik_class)\n",
    "        os.mkdir(dir)\n",
    "\n",
    "        dir = os.path.join(DEV_DIR, batik_class)\n",
    "        os.mkdir(dir)\n",
    "    except:\n",
    "        print('Working subdir folder already exist')\n",
    "        break\n",
    "\n",
    "# Actually moving things around \n",
    "for batik_class in batik_classes:\n",
    "    dir = os.path.join(PLACEHOLDER_DIR, batik_class)\n",
    "    dir_content = os.listdir(dir)\n",
    "\n",
    "    # Calculating how much image for splitting\n",
    "    split_dist = math.ceil(len(dir_content) * SPLIT_DIST)\n",
    "\n",
    "    # Picking random images\n",
    "    testing_images = random.choices(dir_content, k = split_dist)\n",
    "\n",
    "    # Moving things around\n",
    "    for image in tqdm(dir_content, desc = batik_class):\n",
    "        # If image is picked for testing\n",
    "        if image in testing_images:\n",
    "            src_dir = os.path.join(dir, image)\n",
    "            dst_dir = os.path.join(TESTING_DIR, batik_class)\n",
    "\n",
    "            shutil.copy(src_dir, dst_dir)\n",
    "        else:\n",
    "            src_dir = os.path.join(dir, image)\n",
    "            dst_dir = os.path.join(TRAINING_DIR, batik_class)\n",
    "\n",
    "            shutil.copy(src_dir, dst_dir)"
   ]
  },
  {
   "cell_type": "markdown",
   "id": "92e84706",
   "metadata": {},
   "source": [
    "## Purge images from working dir"
   ]
  },
  {
   "cell_type": "code",
   "execution_count": 3,
   "id": "be205124",
   "metadata": {},
   "outputs": [],
   "source": [
    "def purge_working_image(target):\n",
    "    for batik_class in tqdm(batik_classes, desc = target):\n",
    "        dir = os.path.join(target, batik_class)\n",
    "        \n",
    "        #print('Deleting ' + dir)\n",
    "        shutil.rmtree(dir, ignore_errors = True)"
   ]
  },
  {
   "cell_type": "code",
   "execution_count": 4,
   "id": "fdbb356f",
   "metadata": {},
   "outputs": [
    {
     "name": "stderr",
     "output_type": "stream",
     "text": [
      "./Data/Training/: 100%|████████████████████████████████████████████████████████████████| 20/20 [00:00<00:00, 97.41it/s]\n",
      "./Data/Testing/: 100%|███████████████████████████████████████████████████████████████| 20/20 [00:00<00:00, 1533.85it/s]\n",
      "./Data/Dev/: 100%|███████████████████████████████████████████████████████████████████| 20/20 [00:00<00:00, 6667.68it/s]\n"
     ]
    }
   ],
   "source": [
    "purge_working_image(TRAINING_DIR)\n",
    "purge_working_image(TESTING_DIR)\n",
    "purge_working_image(DEV_DIR)"
   ]
  },
  {
   "cell_type": "markdown",
   "id": "abc4816a",
   "metadata": {},
   "source": [
    "----------------------------------------------"
   ]
  },
  {
   "cell_type": "markdown",
   "id": "dd5445a1",
   "metadata": {},
   "source": [
    "## Counting total images"
   ]
  },
  {
   "cell_type": "code",
   "execution_count": 6,
   "id": "6adc185b",
   "metadata": {},
   "outputs": [],
   "source": [
    "def count_batik(target):\n",
    "    try:\n",
    "        batik_counter = {}\n",
    "\n",
    "        for batik_class in batik_classes:\n",
    "            dir = os.path.join(target, batik_class)\n",
    "            dir_content = os.listdir(dir)\n",
    "\n",
    "            batik_counter[batik_class] = 0\n",
    "            for image in dir_content:\n",
    "                batik_counter[batik_class] += 1\n",
    "    except:\n",
    "        print('Directory Empty!')\n",
    "        print()\n",
    "    else:\n",
    "        for i in batik_counter:\n",
    "            print(i + ' = ' + str(batik_counter[i]))\n",
    "\n",
    "        print()\n",
    "        print('Total images: ' + str(sum(batik_counter.values())))"
   ]
  },
  {
   "cell_type": "code",
   "execution_count": 7,
   "id": "5d509234",
   "metadata": {},
   "outputs": [
    {
     "name": "stdout",
     "output_type": "stream",
     "text": [
      "RAW IMAGES\n",
      "-------------------------------------\n",
      "batik-bali = 49\n",
      "batik-betawi = 43\n",
      "batik-celup = 27\n",
      "batik-cendrawasih = 25\n",
      "batik-ceplok = 30\n",
      "batik-ciamis = 34\n",
      "batik-garutan = 31\n",
      "batik-gentongan = 36\n",
      "batik-kawung = 40\n",
      "batik-keraton = 36\n",
      "batik-lasem = 46\n",
      "batik-megamendung = 46\n",
      "batik-parang = 45\n",
      "batik-pekalongan = 47\n",
      "batik-priangan = 38\n",
      "batik-sekar = 24\n",
      "batik-sidoluhur = 45\n",
      "batik-sidomukti = 34\n",
      "batik-sogan = 23\n",
      "batik-tambal = 31\n",
      "\n",
      "Total images: 730\n",
      "TRAINING IMAGES\n",
      "-------------------------------------\n",
      "batik-bali = 44\n",
      "batik-betawi = 39\n",
      "batik-celup = 24\n",
      "batik-cendrawasih = 22\n",
      "batik-ceplok = 27\n",
      "batik-ciamis = 30\n",
      "batik-garutan = 27\n",
      "batik-gentongan = 32\n",
      "batik-kawung = 36\n",
      "batik-keraton = 32\n",
      "batik-lasem = 42\n",
      "batik-megamendung = 41\n",
      "batik-parang = 40\n",
      "batik-pekalongan = 42\n",
      "batik-priangan = 34\n",
      "batik-sekar = 21\n",
      "batik-sidoluhur = 40\n",
      "batik-sidomukti = 30\n",
      "batik-sogan = 20\n",
      "batik-tambal = 27\n",
      "\n",
      "Total images: 650\n",
      "TESTING IMAGES\n",
      "-------------------------------------\n",
      "batik-bali = 5\n",
      "batik-betawi = 4\n",
      "batik-celup = 3\n",
      "batik-cendrawasih = 3\n",
      "batik-ceplok = 3\n",
      "batik-ciamis = 4\n",
      "batik-garutan = 4\n",
      "batik-gentongan = 4\n",
      "batik-kawung = 4\n",
      "batik-keraton = 4\n",
      "batik-lasem = 4\n",
      "batik-megamendung = 5\n",
      "batik-parang = 5\n",
      "batik-pekalongan = 5\n",
      "batik-priangan = 4\n",
      "batik-sekar = 3\n",
      "batik-sidoluhur = 5\n",
      "batik-sidomukti = 4\n",
      "batik-sogan = 3\n",
      "batik-tambal = 4\n",
      "\n",
      "Total images: 80\n",
      "DEV IMAGES\n",
      "-------------------------------------\n",
      "batik-bali = 0\n",
      "batik-betawi = 0\n",
      "batik-celup = 0\n",
      "batik-cendrawasih = 0\n",
      "batik-ceplok = 0\n",
      "batik-ciamis = 0\n",
      "batik-garutan = 0\n",
      "batik-gentongan = 0\n",
      "batik-kawung = 0\n",
      "batik-keraton = 0\n",
      "batik-lasem = 0\n",
      "batik-megamendung = 0\n",
      "batik-parang = 0\n",
      "batik-pekalongan = 0\n",
      "batik-priangan = 0\n",
      "batik-sekar = 0\n",
      "batik-sidoluhur = 0\n",
      "batik-sidomukti = 0\n",
      "batik-sogan = 0\n",
      "batik-tambal = 0\n",
      "\n",
      "Total images: 0\n"
     ]
    }
   ],
   "source": [
    "print('RAW IMAGES')\n",
    "print('-------------------------------------')\n",
    "\n",
    "count_batik(PLACEHOLDER_DIR)\n",
    "\n",
    "print('TRAINING IMAGES')\n",
    "print('-------------------------------------')\n",
    "\n",
    "count_batik(TRAINING_DIR)\n",
    "\n",
    "print('TESTING IMAGES')\n",
    "print('-------------------------------------')\n",
    "\n",
    "count_batik(TESTING_DIR)\n",
    "\n",
    "print('DEV IMAGES')\n",
    "print('-------------------------------------')\n",
    "\n",
    "count_batik(DEV_DIR)"
   ]
  },
  {
   "cell_type": "markdown",
   "id": "e3fe3c17",
   "metadata": {},
   "source": [
    "## Data Augmentation"
   ]
  },
  {
   "cell_type": "code",
   "execution_count": 8,
   "id": "b1839bc5",
   "metadata": {},
   "outputs": [
    {
     "name": "stdout",
     "output_type": "stream",
     "text": [
      "Found 650 images belonging to 20 classes.\n",
      "Found 80 images belonging to 20 classes.\n"
     ]
    }
   ],
   "source": [
    "training_datagen = ImageDataGenerator(\n",
    "    # Might need further augmentation\n",
    "    rescale=1/255.0\n",
    ")\n",
    "\n",
    "testing_datagen = ImageDataGenerator(\n",
    "    rescale=1/255.0\n",
    ")\n",
    "\n",
    "training_generator = training_datagen.flow_from_directory(\n",
    "    TRAINING_DIR,\n",
    "    target_size=(256,256),\n",
    "    class_mode='categorical',\n",
    "    batch_size=32\n",
    ")\n",
    "\n",
    "testing_generator = testing_datagen.flow_from_directory(\n",
    "    TESTING_DIR,\n",
    "    target_size=(256,256),\n",
    "    class_mode='categorical',\n",
    "    batch_size=32\n",
    ")"
   ]
  },
  {
   "cell_type": "markdown",
   "id": "e2e11036",
   "metadata": {},
   "source": [
    "## Model"
   ]
  },
  {
   "cell_type": "code",
   "execution_count": 9,
   "id": "83c0c4bc",
   "metadata": {},
   "outputs": [
    {
     "name": "stdout",
     "output_type": "stream",
     "text": [
      "Model: \"sequential\"\n",
      "_________________________________________________________________\n",
      "Layer (type)                 Output Shape              Param #   \n",
      "=================================================================\n",
      "conv2d (Conv2D)              (None, 254, 254, 32)      896       \n",
      "_________________________________________________________________\n",
      "max_pooling2d (MaxPooling2D) (None, 127, 127, 32)      0         \n",
      "_________________________________________________________________\n",
      "conv2d_1 (Conv2D)            (None, 125, 125, 64)      18496     \n",
      "_________________________________________________________________\n",
      "max_pooling2d_1 (MaxPooling2 (None, 62, 62, 64)        0         \n",
      "_________________________________________________________________\n",
      "flatten (Flatten)            (None, 246016)            0         \n",
      "_________________________________________________________________\n",
      "dense (Dense)                (None, 256)               62980352  \n",
      "_________________________________________________________________\n",
      "dense_1 (Dense)              (None, 20)                5140      \n",
      "=================================================================\n",
      "Total params: 63,004,884\n",
      "Trainable params: 63,004,884\n",
      "Non-trainable params: 0\n",
      "_________________________________________________________________\n"
     ]
    }
   ],
   "source": [
    "model = tf.keras.models.Sequential([\n",
    "    tf.keras.layers.Conv2D(32, (3, 3), activation='relu', input_shape=(256, 256, 3)),\n",
    "    tf.keras.layers.MaxPool2D(2, 2),\n",
    "    tf.keras.layers.Conv2D(64, (3, 3), activation='relu'),\n",
    "    tf.keras.layers.MaxPool2D(2, 2),\n",
    "    tf.keras.layers.Flatten(),\n",
    "    tf.keras.layers.Dense(256, activation = 'relu'),\n",
    "    #20 Batik class, might add more later?\n",
    "    tf.keras.layers.Dense(20, activation = 'softmax')\n",
    "])\n",
    "\n",
    "model.summary()"
   ]
  },
  {
   "cell_type": "markdown",
   "id": "bb8613bb",
   "metadata": {},
   "source": [
    "## Compiling"
   ]
  },
  {
   "cell_type": "code",
   "execution_count": 10,
   "id": "52cbf94f",
   "metadata": {},
   "outputs": [],
   "source": [
    "model.compile(\n",
    "    loss='categorical_crossentropy',\n",
    "    optimizer='adam',\n",
    "    metrics=['accuracy']\n",
    ")"
   ]
  },
  {
   "cell_type": "markdown",
   "id": "0704546d",
   "metadata": {},
   "source": [
    "## Fitting"
   ]
  },
  {
   "cell_type": "code",
   "execution_count": 11,
   "id": "7a46115a",
   "metadata": {},
   "outputs": [
    {
     "name": "stdout",
     "output_type": "stream",
     "text": [
      "Epoch 1/10\n",
      "21/21 [==============================] - 20s 729ms/step - loss: 9.2383 - accuracy: 0.0569 - val_loss: 2.9742 - val_accuracy: 0.0750\n",
      "Epoch 2/10\n",
      "21/21 [==============================] - 12s 555ms/step - loss: 2.8311 - accuracy: 0.1600 - val_loss: 3.0446 - val_accuracy: 0.1250\n",
      "Epoch 3/10\n",
      "21/21 [==============================] - 12s 563ms/step - loss: 2.3003 - accuracy: 0.3662 - val_loss: 3.0021 - val_accuracy: 0.1875\n",
      "Epoch 4/10\n",
      "21/21 [==============================] - 13s 629ms/step - loss: 1.4847 - accuracy: 0.6831 - val_loss: 3.3716 - val_accuracy: 0.0875\n",
      "Epoch 5/10\n",
      "21/21 [==============================] - 12s 570ms/step - loss: 0.9303 - accuracy: 0.8231 - val_loss: 3.7454 - val_accuracy: 0.1375\n",
      "Epoch 6/10\n",
      "21/21 [==============================] - 13s 615ms/step - loss: 0.6278 - accuracy: 0.8892 - val_loss: 3.8039 - val_accuracy: 0.1750\n",
      "Epoch 7/10\n",
      "21/21 [==============================] - 12s 578ms/step - loss: 0.5412 - accuracy: 0.9200 - val_loss: 3.8817 - val_accuracy: 0.1250\n",
      "Epoch 8/10\n",
      "21/21 [==============================] - 12s 590ms/step - loss: 0.4980 - accuracy: 0.9369 - val_loss: 3.7216 - val_accuracy: 0.1250\n",
      "Epoch 9/10\n",
      "21/21 [==============================] - 12s 584ms/step - loss: 0.3589 - accuracy: 0.9462 - val_loss: 3.9953 - val_accuracy: 0.1625\n",
      "Epoch 10/10\n",
      "21/21 [==============================] - 12s 563ms/step - loss: 0.3048 - accuracy: 0.9538 - val_loss: 3.8535 - val_accuracy: 0.1375\n"
     ]
    }
   ],
   "source": [
    "history = model.fit(\n",
    "    training_generator,\n",
    "    validation_data=testing_generator,\n",
    "    epochs=10\n",
    ")"
   ]
  },
  {
   "cell_type": "code",
   "execution_count": null,
   "id": "2e3684e5",
   "metadata": {},
   "outputs": [],
   "source": []
  }
 ],
 "metadata": {
  "kernelspec": {
   "display_name": "Python 3",
   "language": "python",
   "name": "python3"
  },
  "language_info": {
   "codemirror_mode": {
    "name": "ipython",
    "version": 3
   },
   "file_extension": ".py",
   "mimetype": "text/x-python",
   "name": "python",
   "nbconvert_exporter": "python",
   "pygments_lexer": "ipython3",
   "version": "3.9.1"
  },
  "metadata": {
   "interpreter": {
    "hash": "0359aab60893b2ae81cf58b65751dd49aacce33c63ff3968bf2555ef33ef870d"
   }
  }
 },
 "nbformat": 4,
 "nbformat_minor": 5
}
