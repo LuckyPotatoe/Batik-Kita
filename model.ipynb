{
 "cells": [
  {
   "cell_type": "code",
   "execution_count": 40,
   "id": "c589301b",
   "metadata": {},
   "outputs": [],
   "source": [
    "import tensorflow as tf\n",
    "import os\n",
    "import sys\n",
    "import stat\n",
    "import math\n",
    "import random\n",
    "import shutil\n",
    "from tqdm import tqdm"
   ]
  },
  {
   "source": [
    "## Code Start"
   ],
   "cell_type": "markdown",
   "metadata": {}
  },
  {
   "cell_type": "code",
   "execution_count": 4,
   "metadata": {},
   "outputs": [],
   "source": [
    "PLACEHOLDER_DIR = './Data/Placeholder/'\n",
    "TRAINING_DIR = './Data/Training/'\n",
    "TESTING_DIR = './Data/Testing/'\n",
    "DEV_DIR = './Data/Dev/'\n",
    "\n",
    "SPLIT_DIST = 0.1\n",
    "\n",
    "batik_classes = os.listdir(PLACEHOLDER_DIR)"
   ]
  },
  {
   "source": [
    "## Changing file permission"
   ],
   "cell_type": "markdown",
   "metadata": {}
  },
  {
   "cell_type": "code",
   "execution_count": 65,
   "metadata": {
    "tags": []
   },
   "outputs": [
    {
     "output_type": "stream",
     "name": "stderr",
     "text": [
      "batik-bali: 100%|██████████| 49/49 [00:00<00:00, 16520.97it/s]\n",
      "batik-betawi: 100%|██████████| 43/43 [00:00<00:00, 14276.50it/s]\n",
      "batik-celup: 100%|██████████| 27/27 [00:00<00:00, 8997.08it/s]\n",
      "batik-cendrawasih: 100%|██████████| 25/25 [00:00<00:00, 12604.59it/s]\n",
      "batik-ceplok: 100%|██████████| 30/30 [00:00<00:00, 15017.20it/s]\n",
      "batik-ciamis: 100%|██████████| 34/34 [00:00<00:00, 16818.77it/s]\n",
      "batik-garutan: 100%|██████████| 31/31 [00:00<00:00, 15501.12it/s]\n",
      "batik-gentongan: 100%|██████████| 36/36 [00:00<00:00, 17990.58it/s]\n",
      "batik-kawung: 100%|██████████| 40/40 [00:00<00:00, 40060.21it/s]\n",
      "batik-keraton: 100%|██████████| 36/36 [00:00<00:00, 17997.01it/s]\n",
      "batik-lasem: 100%|██████████| 46/46 [00:00<00:00, 23009.90it/s]\n",
      "batik-megamendung: 100%|██████████| 46/46 [00:00<00:00, 15350.31it/s]\n",
      "batik-parang: 100%|██████████| 45/45 [00:00<00:00, 22496.27it/s]\n",
      "batik-pekalongan: 100%|██████████| 47/47 [00:00<00:00, 23526.95it/s]\n",
      "batik-priangan: 100%|██████████| 38/38 [00:00<00:00, 19003.64it/s]\n",
      "batik-sekar: 100%|██████████| 24/24 [00:00<00:00, 6000.79it/s]\n",
      "batik-sidoluhur: 100%|██████████| 45/45 [00:00<00:00, 22488.23it/s]\n",
      "batik-sidomukti: 100%|██████████| 34/34 [00:00<00:00, 16970.88it/s]\n",
      "batik-sogan: 100%|██████████| 23/23 [00:00<00:00, 11506.32it/s]\n",
      "batik-tambal: 100%|██████████| 31/31 [00:00<00:00, 31098.64it/s]\n"
     ]
    }
   ],
   "source": [
    "for batik_class in batik_classes:\n",
    "    dir = os.path.join(PLACEHOLDER_DIR, batik_class)\n",
    "    dir_content = os.listdir(dir)\n",
    "\n",
    "    for image in tqdm(dir_content, ascii = False, desc = batik_class):\n",
    "        dst_dir = os.path.join(dir, image)\n",
    "        os.chmod(dst_dir, stat.S_IRWXU)"
   ]
  },
  {
   "source": [
    "----------------------------------------------\n",
    "# !RUN WITH CAUTION!\n",
    " Making the DIR necessary for storing images and spreading it from PLACEHOLDER_DIR to apropriate dir"
   ],
   "cell_type": "markdown",
   "metadata": {}
  },
  {
   "cell_type": "code",
   "execution_count": 69,
   "id": "351753a0",
   "metadata": {
    "tags": []
   },
   "outputs": [
    {
     "output_type": "stream",
     "name": "stderr",
     "text": [
      "batik-bali: 100%|██████████| 49/49 [00:00<00:00, 1191.18it/s]\n",
      "batik-betawi: 100%|██████████| 43/43 [00:00<00:00, 1194.38it/s]\n",
      "batik-celup: 100%|██████████| 27/27 [00:00<00:00, 1588.28it/s]\n",
      "batik-cendrawasih: 100%|██████████| 25/25 [00:00<00:00, 1388.77it/s]\n",
      "batik-ceplok: 100%|██████████| 30/30 [00:00<00:00, 1249.98it/s]\n",
      "batik-ciamis: 100%|██████████| 34/34 [00:00<00:00, 1360.02it/s]\n",
      "batik-garutan: 100%|██████████| 31/31 [00:00<00:00, 1347.76it/s]\n",
      "batik-gentongan: 100%|██████████| 36/36 [00:00<00:00, 1384.97it/s]\n",
      "batik-kawung: 100%|██████████| 40/40 [00:00<00:00, 869.52it/s]\n",
      "batik-keraton: 100%|██████████| 36/36 [00:00<00:00, 305.11it/s]\n",
      "batik-lasem: 100%|██████████| 46/46 [00:00<00:00, 1069.94it/s]\n",
      "batik-megamendung: 100%|██████████| 46/46 [00:00<00:00, 1055.44it/s]\n",
      "batik-parang: 100%|██████████| 45/45 [00:00<00:00, 1185.23it/s]\n",
      "batik-pekalongan: 100%|██████████| 47/47 [00:00<00:00, 1146.33it/s]\n",
      "batik-priangan: 100%|██████████| 38/38 [00:00<00:00, 1583.40it/s]\n",
      "batik-sekar: 100%|██████████| 24/24 [00:00<00:00, 1200.30it/s]\n",
      "batik-sidoluhur: 100%|██████████| 45/45 [00:00<00:00, 1606.94it/s]\n",
      "batik-sidomukti: 100%|██████████| 34/34 [00:00<00:00, 1259.18it/s]\n",
      "batik-sogan: 100%|██████████| 23/23 [00:00<00:00, 1095.34it/s]\n",
      "batik-tambal: 100%|██████████| 31/31 [00:00<00:00, 1291.72it/s]\n"
     ]
    }
   ],
   "source": [
    "# MKDIR necessary folder\n",
    "for batik_class in batik_classes:\n",
    "    try:\n",
    "        dir = os.path.join(TRAINING_DIR, batik_class)\n",
    "        os.mkdir(dir)\n",
    "\n",
    "        dir = os.path.join(TESTING_DIR, batik_class)\n",
    "        os.mkdir(dir)\n",
    "\n",
    "        dir = os.path.join(DEV_DIR, batik_class)\n",
    "        os.mkdir(dir)\n",
    "    except:\n",
    "        print('Data subdir folder already exist')\n",
    "        break\n",
    "\n",
    "# Actually moving things around \n",
    "for batik_class in batik_classes:\n",
    "    dir = os.path.join(PLACEHOLDER_DIR, batik_class)\n",
    "    dir_content = os.listdir(dir)\n",
    "\n",
    "    # Calculating how much image for splitting\n",
    "    split_dist = math.ceil(len(dir_content) * SPLIT_DIST)\n",
    "\n",
    "    # Picking random images\n",
    "    testing_images = random.choices(dir_content, k = split_dist)\n",
    "\n",
    "    # Moving things around\n",
    "    for image in tqdm(dir_content, desc = batik_class):\n",
    "        # If image is picked for testing\n",
    "        if image in testing_images:\n",
    "            src_dir = os.path.join(dir, image)\n",
    "            dst_dir = os.path.join(TESTING_DIR, batik_class)\n",
    "\n",
    "            shutil.copy(src_dir, dst_dir)\n",
    "        else:\n",
    "            src_dir = os.path.join(dir, image)\n",
    "            dst_dir = os.path.join(TRAINING_DIR, batik_class)\n",
    "\n",
    "            shutil.copy(src_dir, dst_dir)"
   ]
  },
  {
   "source": [
    "## Purging images from Train/Test/Dev"
   ],
   "cell_type": "markdown",
   "metadata": {}
  },
  {
   "cell_type": "code",
   "execution_count": 58,
   "metadata": {},
   "outputs": [],
   "source": [
    "def purge_working_image(target):\n",
    "    for batik_class in tqdm(batik_classes, desc = target):\n",
    "        dir = os.path.join(target, batik_class)\n",
    "        \n",
    "        #print('Deleting ' + dir)\n",
    "        shutil.rmtree(dir, ignore_errors = True)"
   ]
  },
  {
   "cell_type": "code",
   "execution_count": 68,
   "metadata": {},
   "outputs": [
    {
     "output_type": "stream",
     "name": "stderr",
     "text": [
      "./Data/Training/: 100%|██████████| 20/20 [00:00<00:00, 256.38it/s]\n",
      "./Data/Testing/: 100%|██████████| 20/20 [00:00<00:00, 1818.83it/s]\n",
      "./Data/Dev/: 100%|██████████| 20/20 [00:00<00:00, 6662.91it/s]\n"
     ]
    }
   ],
   "source": [
    "purge_working_image(TRAINING_DIR)\n",
    "purge_working_image(TESTING_DIR)\n",
    "purge_working_image(DEV_DIR)"
   ]
  },
  {
   "source": [
    "----------------------------------------------"
   ],
   "cell_type": "markdown",
   "metadata": {}
  },
  {
   "source": [
    "## Counting total images"
   ],
   "cell_type": "markdown",
   "metadata": {}
  },
  {
   "cell_type": "code",
   "execution_count": 70,
   "metadata": {},
   "outputs": [],
   "source": [
    "def count_batik(target):\n",
    "    try:\n",
    "        batik_counter = {}\n",
    "\n",
    "        for batik_class in batik_classes:\n",
    "            dir = os.path.join(target, batik_class)\n",
    "            dir_content = os.listdir(dir)\n",
    "\n",
    "            batik_counter[batik_class] = 0\n",
    "            for image in dir_content:\n",
    "                batik_counter[batik_class] += 1\n",
    "    except:\n",
    "        print('Directory Empty!')\n",
    "        print()\n",
    "    else:\n",
    "        for i in batik_counter:\n",
    "            print(i + ' = ' + str(batik_counter[i]))\n",
    "\n",
    "        print()\n",
    "        print('Total images: ' + str(sum(batik_counter.values())))"
   ]
  },
  {
   "cell_type": "code",
   "execution_count": 71,
   "metadata": {},
   "outputs": [
    {
     "output_type": "stream",
     "name": "stdout",
     "text": [
      "RAW IMAGES\n-------------------------------------\nbatik-bali = 49\nbatik-betawi = 43\nbatik-celup = 27\nbatik-cendrawasih = 25\nbatik-ceplok = 30\nbatik-ciamis = 34\nbatik-garutan = 31\nbatik-gentongan = 36\nbatik-kawung = 40\nbatik-keraton = 36\nbatik-lasem = 46\nbatik-megamendung = 46\nbatik-parang = 45\nbatik-pekalongan = 47\nbatik-priangan = 38\nbatik-sekar = 24\nbatik-sidoluhur = 45\nbatik-sidomukti = 34\nbatik-sogan = 23\nbatik-tambal = 31\n\nTotal images: 730\nTRAINING IMAGES\n-------------------------------------\nbatik-bali = 44\nbatik-betawi = 38\nbatik-celup = 24\nbatik-cendrawasih = 23\nbatik-ceplok = 27\nbatik-ciamis = 30\nbatik-garutan = 27\nbatik-gentongan = 33\nbatik-kawung = 36\nbatik-keraton = 32\nbatik-lasem = 41\nbatik-megamendung = 41\nbatik-parang = 41\nbatik-pekalongan = 42\nbatik-priangan = 34\nbatik-sekar = 21\nbatik-sidoluhur = 40\nbatik-sidomukti = 30\nbatik-sogan = 20\nbatik-tambal = 27\n\nTotal images: 651\nTESTING IMAGES\n-------------------------------------\nbatik-bali = 5\nbatik-betawi = 5\nbatik-celup = 3\nbatik-cendrawasih = 2\nbatik-ceplok = 3\nbatik-ciamis = 4\nbatik-garutan = 4\nbatik-gentongan = 3\nbatik-kawung = 4\nbatik-keraton = 4\nbatik-lasem = 5\nbatik-megamendung = 5\nbatik-parang = 4\nbatik-pekalongan = 5\nbatik-priangan = 4\nbatik-sekar = 3\nbatik-sidoluhur = 5\nbatik-sidomukti = 4\nbatik-sogan = 3\nbatik-tambal = 4\n\nTotal images: 79\nDEV IMAGES\n-------------------------------------\nbatik-bali = 0\nbatik-betawi = 0\nbatik-celup = 0\nbatik-cendrawasih = 0\nbatik-ceplok = 0\nbatik-ciamis = 0\nbatik-garutan = 0\nbatik-gentongan = 0\nbatik-kawung = 0\nbatik-keraton = 0\nbatik-lasem = 0\nbatik-megamendung = 0\nbatik-parang = 0\nbatik-pekalongan = 0\nbatik-priangan = 0\nbatik-sekar = 0\nbatik-sidoluhur = 0\nbatik-sidomukti = 0\nbatik-sogan = 0\nbatik-tambal = 0\n\nTotal images: 0\n"
     ]
    }
   ],
   "source": [
    "print('RAW IMAGES')\n",
    "print('-------------------------------------')\n",
    "\n",
    "count_batik(PLACEHOLDER_DIR)\n",
    "\n",
    "print('TRAINING IMAGES')\n",
    "print('-------------------------------------')\n",
    "\n",
    "count_batik(TRAINING_DIR)\n",
    "\n",
    "print('TESTING IMAGES')\n",
    "print('-------------------------------------')\n",
    "\n",
    "count_batik(TESTING_DIR)\n",
    "\n",
    "print('DEV IMAGES')\n",
    "print('-------------------------------------')\n",
    "\n",
    "count_batik(DEV_DIR)"
   ]
  },
  {
   "cell_type": "code",
   "execution_count": null,
   "id": "83c0c4bc",
   "metadata": {},
   "outputs": [],
   "source": [
    "model = tf.keras.models.Sequential({\n",
    "    #conv layer goes here\n",
    "    #----\n",
    "    tf.keras.layers.Flatten(),\n",
    "    tf.keras.layers.Dense(256, activation = 'relu'),\n",
    "    #20 Batik class, might add more later?\n",
    "    tf.keras.layers.Dense(20, activation = 'softmax')\n",
    "})\n",
    "\n",
    "model.summary()"
   ]
  }
 ],
 "metadata": {
  "kernelspec": {
   "name": "python391jvsc74a57bd00359aab60893b2ae81cf58b65751dd49aacce33c63ff3968bf2555ef33ef870d",
   "display_name": "Python 3.9.1 64-bit ('base': conda)"
  },
  "language_info": {
   "codemirror_mode": {
    "name": "ipython",
    "version": 3
   },
   "file_extension": ".py",
   "mimetype": "text/x-python",
   "name": "python",
   "nbconvert_exporter": "python",
   "pygments_lexer": "ipython3",
   "version": "3.9.1"
  }
 },
 "nbformat": 4,
 "nbformat_minor": 5
}