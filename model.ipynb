{
 "cells": [
  {
   "cell_type": "code",
   "execution_count": 1,
   "id": "c589301b",
   "metadata": {},
   "outputs": [],
   "source": [
    "import tensorflow as tf\n",
    "from keras_preprocessing import image\n",
    "from keras_preprocessing.image import ImageDataGenerator\n",
    "\n",
    "import matplotlib.pyplot as plt\n",
    "\n",
    "import os\n",
    "import stat\n",
    "import math\n",
    "import random\n",
    "\n",
    "import shutil\n",
    "\n",
    "from tqdm import tqdm"
   ]
  },
  {
   "cell_type": "code",
   "execution_count": 2,
   "id": "ab2d12cb-8d4c-4fea-90be-697c165441f6",
   "metadata": {},
   "outputs": [],
   "source": [
    "%matplotlib inline"
   ]
  },
  {
   "cell_type": "markdown",
   "id": "c9a4b37e",
   "metadata": {},
   "source": [
    "## Code Start"
   ]
  },
  {
   "cell_type": "code",
   "execution_count": 3,
   "id": "6be251aa",
   "metadata": {},
   "outputs": [],
   "source": [
    "CLEAN_DIR = './Data/Clean/'\n",
    "DIRTY_DIR = './Data/Dirty/'\n",
    "TRAINING_DIR = './Data/Training/'\n",
    "TESTING_DIR = './Data/Testing/'\n",
    "DEV_DIR = './Data/Dev/'\n",
    "\n",
    "SPLIT_DIST = 0.1\n",
    "\n",
    "batik_classes = os.listdir(CLEAN_DIR)"
   ]
  },
  {
   "cell_type": "markdown",
   "id": "b00bdd7d",
   "metadata": {},
   "source": [
    "## Changing file permission"
   ]
  },
  {
   "cell_type": "code",
   "execution_count": 8,
   "id": "1c215b6c",
   "metadata": {
    "tags": []
   },
   "outputs": [],
   "source": [
    "def change_perm(target):\n",
    "    for batik_class in batik_classes:\n",
    "        dir = os.path.join(target, batik_class)\n",
    "        dir_content = os.listdir(dir)\n",
    "\n",
    "        for image in tqdm(dir_content, ascii = False, desc = batik_class):\n",
    "            dst_dir = os.path.join(dir, image)\n",
    "            os.chmod(dst_dir, stat.S_IRWXU)"
   ]
  },
  {
   "cell_type": "code",
   "execution_count": 9,
   "metadata": {},
   "outputs": [
    {
     "output_type": "stream",
     "name": "stderr",
     "text": [
      "batik-bali: 100%|██████████| 763/763 [00:00<00:00, 885.81it/s] \n",
      "batik-betawi: 100%|██████████| 729/729 [00:00<00:00, 22062.38it/s]\n",
      "batik-celup: 100%|██████████| 805/805 [00:00<00:00, 21736.34it/s]\n",
      "batik-cendrawasih: 100%|██████████| 820/820 [00:00<00:00, 9081.86it/s]\n",
      "batik-ceplok: 100%|██████████| 364/364 [00:00<00:00, 21479.29it/s]\n",
      "batik-ciamis: 100%|██████████| 730/730 [00:00<00:00, 22120.90it/s]\n",
      "batik-garutan: 100%|██████████| 767/767 [00:00<00:00, 21287.22it/s]\n",
      "batik-gentongan: 100%|██████████| 707/707 [00:00<00:00, 22095.02it/s]\n",
      "batik-kawung: 100%|██████████| 767/767 [00:00<00:00, 22535.17it/s]\n",
      "batik-keraton: 100%|██████████| 663/663 [00:00<00:00, 22074.41it/s]\n",
      "batik-lasem: 100%|██████████| 726/726 [00:00<00:00, 21327.12it/s]\n",
      "batik-megamendung: 100%|██████████| 668/668 [00:00<00:00, 19664.89it/s]\n",
      "batik-parang: 100%|██████████| 786/786 [00:00<00:00, 23084.84it/s]\n",
      "batik-pekalongan: 100%|██████████| 786/786 [00:00<00:00, 21224.54it/s]\n",
      "batik-priangan: 100%|██████████| 572/572 [00:00<00:00, 21999.17it/s]\n",
      "batik-sekar: 100%|██████████| 734/734 [00:00<00:00, 21554.58it/s]\n",
      "batik-sidoluhur: 100%|██████████| 804/804 [00:00<00:00, 21721.65it/s]\n",
      "batik-sidomukti: 100%|██████████| 700/700 [00:00<00:00, 21875.44it/s]\n",
      "batik-sogan: 100%|██████████| 700/700 [00:00<00:00, 21211.97it/s]\n",
      "batik-tambal: 100%|██████████| 708/708 [00:00<00:00, 22100.59it/s]\n"
     ]
    }
   ],
   "source": [
    "#change_perm(CLEAN_DIR)\n",
    "change_perm(DIRTY_DIR)"
   ]
  },
  {
   "cell_type": "markdown",
   "id": "24b7311f",
   "metadata": {},
   "source": [
    "----------------------------------------------\n",
    "# !RUN WITH CAUTION!\n",
    "## Data Splitting\n",
    " Making the DIR necessary for storing images and spreading it from CLEAN_DIR to apropriate dir"
   ]
  },
  {
   "cell_type": "code",
   "execution_count": 12,
   "metadata": {},
   "outputs": [],
   "source": [
    "def move_image(target):\n",
    "    for batik_class in batik_classes:\n",
    "        dir = os.path.join(target, batik_class)\n",
    "        dir_content = os.listdir(dir)\n",
    "\n",
    "        # Calculating how much image for splitting\n",
    "        split_dist = math.ceil(len(dir_content) * SPLIT_DIST)\n",
    "\n",
    "        # Picking random images\n",
    "        testing_images = random.choices(dir_content, k = split_dist)\n",
    "\n",
    "        # Moving things around\n",
    "        for image in tqdm(dir_content, desc = batik_class):\n",
    "            # If image is picked for testing\n",
    "            if image in testing_images:\n",
    "                src_dir = os.path.join(dir, image)\n",
    "                dst_dir = os.path.join(TESTING_DIR, batik_class)\n",
    "\n",
    "                shutil.copy(src_dir, dst_dir)\n",
    "            else:\n",
    "                src_dir = os.path.join(dir, image)\n",
    "                dst_dir = os.path.join(TRAINING_DIR, batik_class)\n",
    "\n",
    "                shutil.copy(src_dir, dst_dir)"
   ]
  },
  {
   "cell_type": "code",
   "execution_count": 13,
   "id": "351753a0",
   "metadata": {
    "tags": []
   },
   "outputs": [
    {
     "output_type": "stream",
     "name": "stderr",
     "text": [
      "batik-bali:  12%|█▏        | 6/49 [00:00<00:00, 57.69it/s]Data subdir folder already exist\n",
      "batik-bali: 100%|██████████| 49/49 [00:00<00:00, 59.95it/s]\n",
      "batik-betawi: 100%|██████████| 43/43 [00:00<00:00, 79.58it/s]\n",
      "batik-celup: 100%|██████████| 27/27 [00:00<00:00, 81.81it/s]\n",
      "batik-cendrawasih: 100%|██████████| 25/25 [00:00<00:00, 143.04it/s]\n",
      "batik-ceplok: 100%|██████████| 30/30 [00:00<00:00, 55.35it/s]\n",
      "batik-ciamis: 100%|██████████| 34/34 [00:00<00:00, 119.14it/s]\n",
      "batik-garutan: 100%|██████████| 30/30 [00:00<00:00, 37.96it/s]\n",
      "batik-gentongan: 100%|██████████| 36/36 [00:00<00:00, 64.28it/s]\n",
      "batik-kawung: 100%|██████████| 40/40 [00:01<00:00, 36.44it/s]\n",
      "batik-keraton: 100%|██████████| 36/36 [00:00<00:00, 55.05it/s]\n",
      "batik-lasem: 100%|██████████| 46/46 [00:00<00:00, 60.61it/s]\n",
      "batik-megamendung: 100%|██████████| 46/46 [00:00<00:00, 70.51it/s]\n",
      "batik-parang: 100%|██████████| 45/45 [00:00<00:00, 54.89it/s]\n",
      "batik-pekalongan: 100%|██████████| 47/47 [00:01<00:00, 40.51it/s]\n",
      "batik-priangan: 100%|██████████| 38/38 [00:00<00:00, 70.65it/s]\n",
      "batik-sekar: 100%|██████████| 24/24 [00:00<00:00, 59.00it/s]\n",
      "batik-sidoluhur: 100%|██████████| 45/45 [00:00<00:00, 72.17it/s]\n",
      "batik-sidomukti: 100%|██████████| 34/34 [00:00<00:00, 51.89it/s]\n",
      "batik-sogan: 100%|██████████| 23/23 [00:01<00:00, 18.70it/s]\n",
      "batik-tambal: 100%|██████████| 31/31 [00:00<00:00, 58.92it/s]\n",
      "batik-bali: 100%|██████████| 763/763 [00:08<00:00, 93.39it/s]\n",
      "batik-betawi: 100%|██████████| 729/729 [00:07<00:00, 98.62it/s] \n",
      "batik-celup: 100%|██████████| 805/805 [00:07<00:00, 102.53it/s]\n",
      "batik-cendrawasih: 100%|██████████| 820/820 [00:11<00:00, 69.35it/s] \n",
      "batik-ceplok: 100%|██████████| 364/364 [00:04<00:00, 86.74it/s] \n",
      "batik-ciamis: 100%|██████████| 730/730 [00:09<00:00, 78.16it/s]\n",
      "batik-garutan: 100%|██████████| 767/767 [00:11<00:00, 65.92it/s]\n",
      "batik-gentongan: 100%|██████████| 707/707 [00:11<00:00, 61.33it/s]\n",
      "batik-kawung: 100%|██████████| 767/767 [00:09<00:00, 82.07it/s] \n",
      "batik-keraton: 100%|██████████| 663/663 [00:09<00:00, 68.50it/s] \n",
      "batik-lasem: 100%|██████████| 726/726 [00:10<00:00, 69.35it/s]\n",
      "batik-megamendung: 100%|██████████| 668/668 [00:09<00:00, 71.90it/s]\n",
      "batik-parang: 100%|██████████| 786/786 [00:09<00:00, 85.98it/s] \n",
      "batik-pekalongan: 100%|██████████| 786/786 [00:10<00:00, 74.81it/s]\n",
      "batik-priangan: 100%|██████████| 572/572 [00:06<00:00, 93.15it/s] \n",
      "batik-sekar: 100%|██████████| 734/734 [00:12<00:00, 58.70it/s]\n",
      "batik-sidoluhur: 100%|██████████| 804/804 [00:08<00:00, 89.45it/s]\n",
      "batik-sidomukti: 100%|██████████| 700/700 [00:11<00:00, 59.08it/s]\n",
      "batik-sogan: 100%|██████████| 700/700 [00:08<00:00, 86.22it/s]\n",
      "batik-tambal: 100%|██████████| 708/708 [00:08<00:00, 84.60it/s]\n"
     ]
    }
   ],
   "source": [
    "# MKDIR data subdir\n",
    "try:\n",
    "    os.mkdir(TRAINING_DIR)\n",
    "    os.mkdir(TESTING_DIR)\n",
    "    os.mkdir(DEV_DIR)\n",
    "except:\n",
    "    print('Data subdir folder already exist')\n",
    "\n",
    "# MKDIR working subdir\n",
    "for batik_class in batik_classes:\n",
    "    try:\n",
    "        dir = os.path.join(TRAINING_DIR, batik_class)\n",
    "        os.mkdir(dir)\n",
    "\n",
    "        dir = os.path.join(TESTING_DIR, batik_class)\n",
    "        os.mkdir(dir)\n",
    "\n",
    "        dir = os.path.join(DEV_DIR, batik_class)\n",
    "        os.mkdir(dir)\n",
    "    except:\n",
    "        print('Working subdir folder already exist')\n",
    "        break\n",
    "\n",
    "move_image(CLEAN_DIR)\n",
    "move_image(DIRTY_DIR)"
   ]
  },
  {
   "cell_type": "markdown",
   "id": "92e84706",
   "metadata": {},
   "source": [
    "## Purge images from working dir"
   ]
  },
  {
   "cell_type": "code",
   "execution_count": 10,
   "id": "be205124",
   "metadata": {},
   "outputs": [],
   "source": [
    "def purge_working_image(target):\n",
    "    for batik_class in tqdm(batik_classes, desc = target):\n",
    "        dir = os.path.join(target, batik_class)\n",
    "        \n",
    "        #print('Deleting ' + dir)\n",
    "        shutil.rmtree(dir, ignore_errors = True)"
   ]
  },
  {
   "cell_type": "code",
   "execution_count": 11,
   "id": "fdbb356f",
   "metadata": {},
   "outputs": [
    {
     "output_type": "stream",
     "name": "stderr",
     "text": [
      "./Data/Training/: 100%|██████████| 20/20 [00:01<00:00, 19.10it/s]\n",
      "./Data/Testing/: 100%|██████████| 20/20 [00:00<00:00, 2222.09it/s]\n",
      "./Data/Dev/: 100%|██████████| 20/20 [00:00<00:00, 6665.56it/s]\n"
     ]
    }
   ],
   "source": [
    "purge_working_image(TRAINING_DIR)\n",
    "purge_working_image(TESTING_DIR)\n",
    "purge_working_image(DEV_DIR)"
   ]
  },
  {
   "cell_type": "markdown",
   "id": "abc4816a",
   "metadata": {},
   "source": [
    "----------------------------------------------"
   ]
  },
  {
   "cell_type": "markdown",
   "id": "dd5445a1",
   "metadata": {},
   "source": [
    "## Counting total images"
   ]
  },
  {
   "cell_type": "code",
   "execution_count": 4,
   "id": "6adc185b",
   "metadata": {},
   "outputs": [],
   "source": [
    "def count_batik(target):\n",
    "    try:\n",
    "        batik_counter = {}\n",
    "\n",
    "        for batik_class in batik_classes:\n",
    "            dir = os.path.join(target, batik_class)\n",
    "            dir_content = os.listdir(dir)\n",
    "\n",
    "            batik_counter[batik_class] = 0\n",
    "            for image in dir_content:\n",
    "                batik_counter[batik_class] += 1\n",
    "    except:\n",
    "        print('Directory Empty!')\n",
    "        print()\n",
    "    else:\n",
    "        for i in batik_counter:\n",
    "            print(i + ' = ' + str(batik_counter[i]))\n",
    "\n",
    "        print()\n",
    "        print('Total images: ' + str(sum(batik_counter.values())))"
   ]
  },
  {
   "cell_type": "code",
   "execution_count": 4,
   "id": "61895bcc",
   "metadata": {},
   "outputs": [
    {
     "output_type": "stream",
     "name": "stdout",
     "text": [
      "CLEAN IMAGES\n-------------------------------------\nbatik-bali = 49\nbatik-betawi = 43\nbatik-celup = 27\nbatik-cendrawasih = 25\nbatik-ceplok = 30\nbatik-ciamis = 34\nbatik-garutan = 30\nbatik-gentongan = 36\nbatik-kawung = 40\nbatik-keraton = 36\nbatik-lasem = 46\nbatik-megamendung = 46\nbatik-parang = 45\nbatik-pekalongan = 47\nbatik-priangan = 38\nbatik-sekar = 24\nbatik-sidoluhur = 45\nbatik-sidomukti = 34\nbatik-sogan = 23\nbatik-tambal = 31\n\nTotal images: 729\nDIRTY IMAGES\n-------------------------------------\nbatik-bali = 763\nbatik-betawi = 729\nbatik-celup = 805\nbatik-cendrawasih = 820\nbatik-ceplok = 364\nbatik-ciamis = 730\nbatik-garutan = 767\nbatik-gentongan = 707\nbatik-kawung = 767\nbatik-keraton = 663\nbatik-lasem = 726\nbatik-megamendung = 668\nbatik-parang = 786\nbatik-pekalongan = 786\nbatik-priangan = 572\nbatik-sekar = 734\nbatik-sidoluhur = 804\nbatik-sidomukti = 700\nbatik-sogan = 700\nbatik-tambal = 708\n\nTotal images: 14299\n"
     ]
    }
   ],
   "source": [
    "print('CLEAN IMAGES')\n",
    "print('-------------------------------------')\n",
    "\n",
    "count_batik(CLEAN_DIR)\n",
    "\n",
    "print('DIRTY IMAGES')\n",
    "print('-------------------------------------')\n",
    "\n",
    "count_batik(DIRTY_DIR)"
   ]
  },
  {
   "cell_type": "code",
   "execution_count": 5,
   "id": "5d509234",
   "metadata": {},
   "outputs": [
    {
     "output_type": "stream",
     "name": "stdout",
     "text": [
      "TRAINING IMAGES\n",
      "-------------------------------------\n",
      "batik-bali = 733\n",
      "batik-betawi = 695\n",
      "batik-celup = 754\n",
      "batik-cendrawasih = 762\n",
      "batik-ceplok = 355\n",
      "batik-ciamis = 692\n",
      "batik-garutan = 720\n",
      "batik-gentongan = 673\n",
      "batik-kawung = 731\n",
      "batik-keraton = 632\n",
      "batik-lasem = 698\n",
      "batik-megamendung = 644\n",
      "batik-parang = 751\n",
      "batik-pekalongan = 757\n",
      "batik-priangan = 552\n",
      "batik-sekar = 684\n",
      "batik-sidoluhur = 768\n",
      "batik-sidomukti = 664\n",
      "batik-sogan = 657\n",
      "batik-tambal = 667\n",
      "\n",
      "Total images: 13589\n",
      "TESTING IMAGES\n",
      "-------------------------------------\n",
      "batik-bali = 79\n",
      "batik-betawi = 77\n",
      "batik-celup = 78\n",
      "batik-cendrawasih = 83\n",
      "batik-ceplok = 39\n",
      "batik-ciamis = 72\n",
      "batik-garutan = 77\n",
      "batik-gentongan = 70\n",
      "batik-kawung = 76\n",
      "batik-keraton = 67\n",
      "batik-lasem = 74\n",
      "batik-megamendung = 70\n",
      "batik-parang = 80\n",
      "batik-pekalongan = 76\n",
      "batik-priangan = 58\n",
      "batik-sekar = 74\n",
      "batik-sidoluhur = 81\n",
      "batik-sidomukti = 70\n",
      "batik-sogan = 66\n",
      "batik-tambal = 72\n",
      "\n",
      "Total images: 1439\n",
      "DEV IMAGES\n",
      "-------------------------------------\n",
      "batik-bali = 0\n",
      "batik-betawi = 0\n",
      "batik-celup = 0\n",
      "batik-cendrawasih = 0\n",
      "batik-ceplok = 0\n",
      "batik-ciamis = 0\n",
      "batik-garutan = 0\n",
      "batik-gentongan = 0\n",
      "batik-kawung = 0\n",
      "batik-keraton = 0\n",
      "batik-lasem = 0\n",
      "batik-megamendung = 0\n",
      "batik-parang = 0\n",
      "batik-pekalongan = 0\n",
      "batik-priangan = 0\n",
      "batik-sekar = 0\n",
      "batik-sidoluhur = 0\n",
      "batik-sidomukti = 0\n",
      "batik-sogan = 0\n",
      "batik-tambal = 0\n",
      "\n",
      "Total images: 0\n"
     ]
    }
   ],
   "source": [
    "print('TRAINING IMAGES')\n",
    "print('-------------------------------------')\n",
    "\n",
    "count_batik(TRAINING_DIR)\n",
    "\n",
    "print('TESTING IMAGES')\n",
    "print('-------------------------------------')\n",
    "\n",
    "count_batik(TESTING_DIR)\n",
    "\n",
    "print('DEV IMAGES')\n",
    "print('-------------------------------------')\n",
    "\n",
    "count_batik(DEV_DIR)"
   ]
  },
  {
   "cell_type": "markdown",
   "id": "e3fe3c17",
   "metadata": {},
   "source": [
    "## Data Augmentation"
   ]
  },
  {
   "cell_type": "code",
   "execution_count": 10,
   "id": "ffa82ac6",
   "metadata": {},
   "outputs": [],
   "source": [
    "IMAGE_SHAPE = [150, 150]\n",
    "BATCH_SIZE = 64"
   ]
  },
  {
   "cell_type": "code",
   "execution_count": 11,
   "id": "b1839bc5",
   "metadata": {},
   "outputs": [
    {
     "output_type": "stream",
     "name": "stdout",
     "text": [
      "Found 13589 images belonging to 20 classes.\nFound 1439 images belonging to 20 classes.\n"
     ]
    }
   ],
   "source": [
    "training_datagen = ImageDataGenerator(\n",
    "    # Might need further augmentation\n",
    "    rescale = 1/255.0,\n",
    "    rotation_range = 40,\n",
    "    width_shift_range = 0.2,\n",
    "    height_shift_range = 0.2,\n",
    "    shear_range = 0.2,\n",
    "    zoom_range = 0.2,\n",
    "    horizontal_flip = True\n",
    ")\n",
    "\n",
    "testing_datagen = ImageDataGenerator(\n",
    "    rescale = 1/255.0,\n",
    ")\n",
    "\n",
    "training_generator = training_datagen.flow_from_directory(\n",
    "    TRAINING_DIR,\n",
    "    target_size=IMAGE_SHAPE,\n",
    "    class_mode='categorical',\n",
    "    batch_size=BATCH_SIZE\n",
    ")\n",
    "\n",
    "testing_generator = testing_datagen.flow_from_directory(\n",
    "    TESTING_DIR,\n",
    "    target_size=IMAGE_SHAPE,\n",
    "    class_mode='categorical',\n",
    "    batch_size=BATCH_SIZE\n",
    ")"
   ]
  },
  {
   "cell_type": "markdown",
   "id": "e2e11036",
   "metadata": {},
   "source": [
    "## Model"
   ]
  },
  {
   "cell_type": "code",
   "execution_count": 58,
   "id": "d29dae18-d31a-4263-81cb-f9119de29793",
   "metadata": {},
   "outputs": [],
   "source": [
    "efn_model = tf.keras.applications.EfficientNetB0(\n",
    "    include_top=False,\n",
    "    input_shape=IMAGE_SHAPE + [3]\n",
    ")"
   ]
  },
  {
   "cell_type": "code",
   "execution_count": 59,
   "id": "bbc0b5f8-93d9-4afe-8a26-d2299b54cb45",
   "metadata": {},
   "outputs": [],
   "source": [
    "for layer in efn_model.layers:\n",
    "    layer.trainable = False"
   ]
  },
  {
   "cell_type": "code",
   "execution_count": 44,
   "id": "1858ac3a-0ea4-418f-9626-a9b32581853e",
   "metadata": {
    "tags": []
   },
   "outputs": [
    {
     "output_type": "stream",
     "name": "stdout",
     "text": [
      "Model: \"efficientnetb0\"\n__________________________________________________________________________________________________\nLayer (type)                    Output Shape         Param #     Connected to                     \n==================================================================================================\ninput_6 (InputLayer)            [(None, 150, 150, 3) 0                                            \n__________________________________________________________________________________________________\nrescaling_4 (Rescaling)         (None, 150, 150, 3)  0           input_6[0][0]                    \n__________________________________________________________________________________________________\nnormalization_4 (Normalization) (None, 150, 150, 3)  7           rescaling_4[0][0]                \n__________________________________________________________________________________________________\nstem_conv_pad (ZeroPadding2D)   (None, 151, 151, 3)  0           normalization_4[0][0]            \n__________________________________________________________________________________________________\nstem_conv (Conv2D)              (None, 75, 75, 32)   864         stem_conv_pad[0][0]              \n__________________________________________________________________________________________________\nstem_bn (BatchNormalization)    (None, 75, 75, 32)   128         stem_conv[0][0]                  \n__________________________________________________________________________________________________\nstem_activation (Activation)    (None, 75, 75, 32)   0           stem_bn[0][0]                    \n__________________________________________________________________________________________________\nblock1a_dwconv (DepthwiseConv2D (None, 75, 75, 32)   288         stem_activation[0][0]            \n__________________________________________________________________________________________________\nblock1a_bn (BatchNormalization) (None, 75, 75, 32)   128         block1a_dwconv[0][0]             \n__________________________________________________________________________________________________\nblock1a_activation (Activation) (None, 75, 75, 32)   0           block1a_bn[0][0]                 \n__________________________________________________________________________________________________\nblock1a_se_squeeze (GlobalAvera (None, 32)           0           block1a_activation[0][0]         \n__________________________________________________________________________________________________\nblock1a_se_reshape (Reshape)    (None, 1, 1, 32)     0           block1a_se_squeeze[0][0]         \n__________________________________________________________________________________________________\nblock1a_se_reduce (Conv2D)      (None, 1, 1, 8)      264         block1a_se_reshape[0][0]         \n__________________________________________________________________________________________________\nblock1a_se_expand (Conv2D)      (None, 1, 1, 32)     288         block1a_se_reduce[0][0]          \n__________________________________________________________________________________________________\nblock1a_se_excite (Multiply)    (None, 75, 75, 32)   0           block1a_activation[0][0]         \n                                                                 block1a_se_expand[0][0]          \n__________________________________________________________________________________________________\nblock1a_project_conv (Conv2D)   (None, 75, 75, 16)   512         block1a_se_excite[0][0]          \n__________________________________________________________________________________________________\nblock1a_project_bn (BatchNormal (None, 75, 75, 16)   64          block1a_project_conv[0][0]       \n__________________________________________________________________________________________________\nblock2a_expand_conv (Conv2D)    (None, 75, 75, 96)   1536        block1a_project_bn[0][0]         \n__________________________________________________________________________________________________\nblock2a_expand_bn (BatchNormali (None, 75, 75, 96)   384         block2a_expand_conv[0][0]        \n__________________________________________________________________________________________________\nblock2a_expand_activation (Acti (None, 75, 75, 96)   0           block2a_expand_bn[0][0]          \n__________________________________________________________________________________________________\nblock2a_dwconv_pad (ZeroPadding (None, 77, 77, 96)   0           block2a_expand_activation[0][0]  \n__________________________________________________________________________________________________\nblock2a_dwconv (DepthwiseConv2D (None, 38, 38, 96)   864         block2a_dwconv_pad[0][0]         \n__________________________________________________________________________________________________\nblock2a_bn (BatchNormalization) (None, 38, 38, 96)   384         block2a_dwconv[0][0]             \n__________________________________________________________________________________________________\nblock2a_activation (Activation) (None, 38, 38, 96)   0           block2a_bn[0][0]                 \n__________________________________________________________________________________________________\nblock2a_se_squeeze (GlobalAvera (None, 96)           0           block2a_activation[0][0]         \n__________________________________________________________________________________________________\nblock2a_se_reshape (Reshape)    (None, 1, 1, 96)     0           block2a_se_squeeze[0][0]         \n__________________________________________________________________________________________________\nblock2a_se_reduce (Conv2D)      (None, 1, 1, 4)      388         block2a_se_reshape[0][0]         \n__________________________________________________________________________________________________\nblock2a_se_expand (Conv2D)      (None, 1, 1, 96)     480         block2a_se_reduce[0][0]          \n__________________________________________________________________________________________________\nblock2a_se_excite (Multiply)    (None, 38, 38, 96)   0           block2a_activation[0][0]         \n                                                                 block2a_se_expand[0][0]          \n__________________________________________________________________________________________________\nblock2a_project_conv (Conv2D)   (None, 38, 38, 24)   2304        block2a_se_excite[0][0]          \n__________________________________________________________________________________________________\nblock2a_project_bn (BatchNormal (None, 38, 38, 24)   96          block2a_project_conv[0][0]       \n__________________________________________________________________________________________________\nblock2b_expand_conv (Conv2D)    (None, 38, 38, 144)  3456        block2a_project_bn[0][0]         \n__________________________________________________________________________________________________\nblock2b_expand_bn (BatchNormali (None, 38, 38, 144)  576         block2b_expand_conv[0][0]        \n__________________________________________________________________________________________________\nblock2b_expand_activation (Acti (None, 38, 38, 144)  0           block2b_expand_bn[0][0]          \n__________________________________________________________________________________________________\nblock2b_dwconv (DepthwiseConv2D (None, 38, 38, 144)  1296        block2b_expand_activation[0][0]  \n__________________________________________________________________________________________________\nblock2b_bn (BatchNormalization) (None, 38, 38, 144)  576         block2b_dwconv[0][0]             \n__________________________________________________________________________________________________\nblock2b_activation (Activation) (None, 38, 38, 144)  0           block2b_bn[0][0]                 \n__________________________________________________________________________________________________\nblock2b_se_squeeze (GlobalAvera (None, 144)          0           block2b_activation[0][0]         \n__________________________________________________________________________________________________\nblock2b_se_reshape (Reshape)    (None, 1, 1, 144)    0           block2b_se_squeeze[0][0]         \n__________________________________________________________________________________________________\nblock2b_se_reduce (Conv2D)      (None, 1, 1, 6)      870         block2b_se_reshape[0][0]         \n__________________________________________________________________________________________________\nblock2b_se_expand (Conv2D)      (None, 1, 1, 144)    1008        block2b_se_reduce[0][0]          \n__________________________________________________________________________________________________\nblock2b_se_excite (Multiply)    (None, 38, 38, 144)  0           block2b_activation[0][0]         \n                                                                 block2b_se_expand[0][0]          \n__________________________________________________________________________________________________\nblock2b_project_conv (Conv2D)   (None, 38, 38, 24)   3456        block2b_se_excite[0][0]          \n__________________________________________________________________________________________________\nblock2b_project_bn (BatchNormal (None, 38, 38, 24)   96          block2b_project_conv[0][0]       \n__________________________________________________________________________________________________\nblock2b_drop (Dropout)          (None, 38, 38, 24)   0           block2b_project_bn[0][0]         \n__________________________________________________________________________________________________\nblock2b_add (Add)               (None, 38, 38, 24)   0           block2b_drop[0][0]               \n                                                                 block2a_project_bn[0][0]         \n__________________________________________________________________________________________________\nblock3a_expand_conv (Conv2D)    (None, 38, 38, 144)  3456        block2b_add[0][0]                \n__________________________________________________________________________________________________\nblock3a_expand_bn (BatchNormali (None, 38, 38, 144)  576         block3a_expand_conv[0][0]        \n__________________________________________________________________________________________________\nblock3a_expand_activation (Acti (None, 38, 38, 144)  0           block3a_expand_bn[0][0]          \n__________________________________________________________________________________________________\nblock3a_dwconv_pad (ZeroPadding (None, 41, 41, 144)  0           block3a_expand_activation[0][0]  \n__________________________________________________________________________________________________\nblock3a_dwconv (DepthwiseConv2D (None, 19, 19, 144)  3600        block3a_dwconv_pad[0][0]         \n__________________________________________________________________________________________________\nblock3a_bn (BatchNormalization) (None, 19, 19, 144)  576         block3a_dwconv[0][0]             \n__________________________________________________________________________________________________\nblock3a_activation (Activation) (None, 19, 19, 144)  0           block3a_bn[0][0]                 \n__________________________________________________________________________________________________\nblock3a_se_squeeze (GlobalAvera (None, 144)          0           block3a_activation[0][0]         \n__________________________________________________________________________________________________\nblock3a_se_reshape (Reshape)    (None, 1, 1, 144)    0           block3a_se_squeeze[0][0]         \n__________________________________________________________________________________________________\nblock3a_se_reduce (Conv2D)      (None, 1, 1, 6)      870         block3a_se_reshape[0][0]         \n__________________________________________________________________________________________________\nblock3a_se_expand (Conv2D)      (None, 1, 1, 144)    1008        block3a_se_reduce[0][0]          \n__________________________________________________________________________________________________\nblock3a_se_excite (Multiply)    (None, 19, 19, 144)  0           block3a_activation[0][0]         \n                                                                 block3a_se_expand[0][0]          \n__________________________________________________________________________________________________\nblock3a_project_conv (Conv2D)   (None, 19, 19, 40)   5760        block3a_se_excite[0][0]          \n__________________________________________________________________________________________________\nblock3a_project_bn (BatchNormal (None, 19, 19, 40)   160         block3a_project_conv[0][0]       \n__________________________________________________________________________________________________\nblock3b_expand_conv (Conv2D)    (None, 19, 19, 240)  9600        block3a_project_bn[0][0]         \n__________________________________________________________________________________________________\nblock3b_expand_bn (BatchNormali (None, 19, 19, 240)  960         block3b_expand_conv[0][0]        \n__________________________________________________________________________________________________\nblock3b_expand_activation (Acti (None, 19, 19, 240)  0           block3b_expand_bn[0][0]          \n__________________________________________________________________________________________________\nblock3b_dwconv (DepthwiseConv2D (None, 19, 19, 240)  6000        block3b_expand_activation[0][0]  \n__________________________________________________________________________________________________\nblock3b_bn (BatchNormalization) (None, 19, 19, 240)  960         block3b_dwconv[0][0]             \n__________________________________________________________________________________________________\nblock3b_activation (Activation) (None, 19, 19, 240)  0           block3b_bn[0][0]                 \n__________________________________________________________________________________________________\nblock3b_se_squeeze (GlobalAvera (None, 240)          0           block3b_activation[0][0]         \n__________________________________________________________________________________________________\nblock3b_se_reshape (Reshape)    (None, 1, 1, 240)    0           block3b_se_squeeze[0][0]         \n__________________________________________________________________________________________________\nblock3b_se_reduce (Conv2D)      (None, 1, 1, 10)     2410        block3b_se_reshape[0][0]         \n__________________________________________________________________________________________________\nblock3b_se_expand (Conv2D)      (None, 1, 1, 240)    2640        block3b_se_reduce[0][0]          \n__________________________________________________________________________________________________\nblock3b_se_excite (Multiply)    (None, 19, 19, 240)  0           block3b_activation[0][0]         \n                                                                 block3b_se_expand[0][0]          \n__________________________________________________________________________________________________\nblock3b_project_conv (Conv2D)   (None, 19, 19, 40)   9600        block3b_se_excite[0][0]          \n__________________________________________________________________________________________________\nblock3b_project_bn (BatchNormal (None, 19, 19, 40)   160         block3b_project_conv[0][0]       \n__________________________________________________________________________________________________\nblock3b_drop (Dropout)          (None, 19, 19, 40)   0           block3b_project_bn[0][0]         \n__________________________________________________________________________________________________\nblock3b_add (Add)               (None, 19, 19, 40)   0           block3b_drop[0][0]               \n                                                                 block3a_project_bn[0][0]         \n__________________________________________________________________________________________________\nblock4a_expand_conv (Conv2D)    (None, 19, 19, 240)  9600        block3b_add[0][0]                \n__________________________________________________________________________________________________\nblock4a_expand_bn (BatchNormali (None, 19, 19, 240)  960         block4a_expand_conv[0][0]        \n__________________________________________________________________________________________________\nblock4a_expand_activation (Acti (None, 19, 19, 240)  0           block4a_expand_bn[0][0]          \n__________________________________________________________________________________________________\nblock4a_dwconv_pad (ZeroPadding (None, 21, 21, 240)  0           block4a_expand_activation[0][0]  \n__________________________________________________________________________________________________\nblock4a_dwconv (DepthwiseConv2D (None, 10, 10, 240)  2160        block4a_dwconv_pad[0][0]         \n__________________________________________________________________________________________________\nblock4a_bn (BatchNormalization) (None, 10, 10, 240)  960         block4a_dwconv[0][0]             \n__________________________________________________________________________________________________\nblock4a_activation (Activation) (None, 10, 10, 240)  0           block4a_bn[0][0]                 \n__________________________________________________________________________________________________\nblock4a_se_squeeze (GlobalAvera (None, 240)          0           block4a_activation[0][0]         \n__________________________________________________________________________________________________\nblock4a_se_reshape (Reshape)    (None, 1, 1, 240)    0           block4a_se_squeeze[0][0]         \n__________________________________________________________________________________________________\nblock4a_se_reduce (Conv2D)      (None, 1, 1, 10)     2410        block4a_se_reshape[0][0]         \n__________________________________________________________________________________________________\nblock4a_se_expand (Conv2D)      (None, 1, 1, 240)    2640        block4a_se_reduce[0][0]          \n__________________________________________________________________________________________________\nblock4a_se_excite (Multiply)    (None, 10, 10, 240)  0           block4a_activation[0][0]         \n                                                                 block4a_se_expand[0][0]          \n__________________________________________________________________________________________________\nblock4a_project_conv (Conv2D)   (None, 10, 10, 80)   19200       block4a_se_excite[0][0]          \n__________________________________________________________________________________________________\nblock4a_project_bn (BatchNormal (None, 10, 10, 80)   320         block4a_project_conv[0][0]       \n__________________________________________________________________________________________________\nblock4b_expand_conv (Conv2D)    (None, 10, 10, 480)  38400       block4a_project_bn[0][0]         \n__________________________________________________________________________________________________\nblock4b_expand_bn (BatchNormali (None, 10, 10, 480)  1920        block4b_expand_conv[0][0]        \n__________________________________________________________________________________________________\nblock4b_expand_activation (Acti (None, 10, 10, 480)  0           block4b_expand_bn[0][0]          \n__________________________________________________________________________________________________\nblock4b_dwconv (DepthwiseConv2D (None, 10, 10, 480)  4320        block4b_expand_activation[0][0]  \n__________________________________________________________________________________________________\nblock4b_bn (BatchNormalization) (None, 10, 10, 480)  1920        block4b_dwconv[0][0]             \n__________________________________________________________________________________________________\nblock4b_activation (Activation) (None, 10, 10, 480)  0           block4b_bn[0][0]                 \n__________________________________________________________________________________________________\nblock4b_se_squeeze (GlobalAvera (None, 480)          0           block4b_activation[0][0]         \n__________________________________________________________________________________________________\nblock4b_se_reshape (Reshape)    (None, 1, 1, 480)    0           block4b_se_squeeze[0][0]         \n__________________________________________________________________________________________________\nblock4b_se_reduce (Conv2D)      (None, 1, 1, 20)     9620        block4b_se_reshape[0][0]         \n__________________________________________________________________________________________________\nblock4b_se_expand (Conv2D)      (None, 1, 1, 480)    10080       block4b_se_reduce[0][0]          \n__________________________________________________________________________________________________\nblock4b_se_excite (Multiply)    (None, 10, 10, 480)  0           block4b_activation[0][0]         \n                                                                 block4b_se_expand[0][0]          \n__________________________________________________________________________________________________\nblock4b_project_conv (Conv2D)   (None, 10, 10, 80)   38400       block4b_se_excite[0][0]          \n__________________________________________________________________________________________________\nblock4b_project_bn (BatchNormal (None, 10, 10, 80)   320         block4b_project_conv[0][0]       \n__________________________________________________________________________________________________\nblock4b_drop (Dropout)          (None, 10, 10, 80)   0           block4b_project_bn[0][0]         \n__________________________________________________________________________________________________\nblock4b_add (Add)               (None, 10, 10, 80)   0           block4b_drop[0][0]               \n                                                                 block4a_project_bn[0][0]         \n__________________________________________________________________________________________________\nblock4c_expand_conv (Conv2D)    (None, 10, 10, 480)  38400       block4b_add[0][0]                \n__________________________________________________________________________________________________\nblock4c_expand_bn (BatchNormali (None, 10, 10, 480)  1920        block4c_expand_conv[0][0]        \n__________________________________________________________________________________________________\nblock4c_expand_activation (Acti (None, 10, 10, 480)  0           block4c_expand_bn[0][0]          \n__________________________________________________________________________________________________\nblock4c_dwconv (DepthwiseConv2D (None, 10, 10, 480)  4320        block4c_expand_activation[0][0]  \n__________________________________________________________________________________________________\nblock4c_bn (BatchNormalization) (None, 10, 10, 480)  1920        block4c_dwconv[0][0]             \n__________________________________________________________________________________________________\nblock4c_activation (Activation) (None, 10, 10, 480)  0           block4c_bn[0][0]                 \n__________________________________________________________________________________________________\nblock4c_se_squeeze (GlobalAvera (None, 480)          0           block4c_activation[0][0]         \n__________________________________________________________________________________________________\nblock4c_se_reshape (Reshape)    (None, 1, 1, 480)    0           block4c_se_squeeze[0][0]         \n__________________________________________________________________________________________________\nblock4c_se_reduce (Conv2D)      (None, 1, 1, 20)     9620        block4c_se_reshape[0][0]         \n__________________________________________________________________________________________________\nblock4c_se_expand (Conv2D)      (None, 1, 1, 480)    10080       block4c_se_reduce[0][0]          \n__________________________________________________________________________________________________\nblock4c_se_excite (Multiply)    (None, 10, 10, 480)  0           block4c_activation[0][0]         \n                                                                 block4c_se_expand[0][0]          \n__________________________________________________________________________________________________\nblock4c_project_conv (Conv2D)   (None, 10, 10, 80)   38400       block4c_se_excite[0][0]          \n__________________________________________________________________________________________________\nblock4c_project_bn (BatchNormal (None, 10, 10, 80)   320         block4c_project_conv[0][0]       \n__________________________________________________________________________________________________\nblock4c_drop (Dropout)          (None, 10, 10, 80)   0           block4c_project_bn[0][0]         \n__________________________________________________________________________________________________\nblock4c_add (Add)               (None, 10, 10, 80)   0           block4c_drop[0][0]               \n                                                                 block4b_add[0][0]                \n__________________________________________________________________________________________________\nblock5a_expand_conv (Conv2D)    (None, 10, 10, 480)  38400       block4c_add[0][0]                \n__________________________________________________________________________________________________\nblock5a_expand_bn (BatchNormali (None, 10, 10, 480)  1920        block5a_expand_conv[0][0]        \n__________________________________________________________________________________________________\nblock5a_expand_activation (Acti (None, 10, 10, 480)  0           block5a_expand_bn[0][0]          \n__________________________________________________________________________________________________\nblock5a_dwconv (DepthwiseConv2D (None, 10, 10, 480)  12000       block5a_expand_activation[0][0]  \n__________________________________________________________________________________________________\nblock5a_bn (BatchNormalization) (None, 10, 10, 480)  1920        block5a_dwconv[0][0]             \n__________________________________________________________________________________________________\nblock5a_activation (Activation) (None, 10, 10, 480)  0           block5a_bn[0][0]                 \n__________________________________________________________________________________________________\nblock5a_se_squeeze (GlobalAvera (None, 480)          0           block5a_activation[0][0]         \n__________________________________________________________________________________________________\nblock5a_se_reshape (Reshape)    (None, 1, 1, 480)    0           block5a_se_squeeze[0][0]         \n__________________________________________________________________________________________________\nblock5a_se_reduce (Conv2D)      (None, 1, 1, 20)     9620        block5a_se_reshape[0][0]         \n__________________________________________________________________________________________________\nblock5a_se_expand (Conv2D)      (None, 1, 1, 480)    10080       block5a_se_reduce[0][0]          \n__________________________________________________________________________________________________\nblock5a_se_excite (Multiply)    (None, 10, 10, 480)  0           block5a_activation[0][0]         \n                                                                 block5a_se_expand[0][0]          \n__________________________________________________________________________________________________\nblock5a_project_conv (Conv2D)   (None, 10, 10, 112)  53760       block5a_se_excite[0][0]          \n__________________________________________________________________________________________________\nblock5a_project_bn (BatchNormal (None, 10, 10, 112)  448         block5a_project_conv[0][0]       \n__________________________________________________________________________________________________\nblock5b_expand_conv (Conv2D)    (None, 10, 10, 672)  75264       block5a_project_bn[0][0]         \n__________________________________________________________________________________________________\nblock5b_expand_bn (BatchNormali (None, 10, 10, 672)  2688        block5b_expand_conv[0][0]        \n__________________________________________________________________________________________________\nblock5b_expand_activation (Acti (None, 10, 10, 672)  0           block5b_expand_bn[0][0]          \n__________________________________________________________________________________________________\nblock5b_dwconv (DepthwiseConv2D (None, 10, 10, 672)  16800       block5b_expand_activation[0][0]  \n__________________________________________________________________________________________________\nblock5b_bn (BatchNormalization) (None, 10, 10, 672)  2688        block5b_dwconv[0][0]             \n__________________________________________________________________________________________________\nblock5b_activation (Activation) (None, 10, 10, 672)  0           block5b_bn[0][0]                 \n__________________________________________________________________________________________________\nblock5b_se_squeeze (GlobalAvera (None, 672)          0           block5b_activation[0][0]         \n__________________________________________________________________________________________________\nblock5b_se_reshape (Reshape)    (None, 1, 1, 672)    0           block5b_se_squeeze[0][0]         \n__________________________________________________________________________________________________\nblock5b_se_reduce (Conv2D)      (None, 1, 1, 28)     18844       block5b_se_reshape[0][0]         \n__________________________________________________________________________________________________\nblock5b_se_expand (Conv2D)      (None, 1, 1, 672)    19488       block5b_se_reduce[0][0]          \n__________________________________________________________________________________________________\nblock5b_se_excite (Multiply)    (None, 10, 10, 672)  0           block5b_activation[0][0]         \n                                                                 block5b_se_expand[0][0]          \n__________________________________________________________________________________________________\nblock5b_project_conv (Conv2D)   (None, 10, 10, 112)  75264       block5b_se_excite[0][0]          \n__________________________________________________________________________________________________\nblock5b_project_bn (BatchNormal (None, 10, 10, 112)  448         block5b_project_conv[0][0]       \n__________________________________________________________________________________________________\nblock5b_drop (Dropout)          (None, 10, 10, 112)  0           block5b_project_bn[0][0]         \n__________________________________________________________________________________________________\nblock5b_add (Add)               (None, 10, 10, 112)  0           block5b_drop[0][0]               \n                                                                 block5a_project_bn[0][0]         \n__________________________________________________________________________________________________\nblock5c_expand_conv (Conv2D)    (None, 10, 10, 672)  75264       block5b_add[0][0]                \n__________________________________________________________________________________________________\nblock5c_expand_bn (BatchNormali (None, 10, 10, 672)  2688        block5c_expand_conv[0][0]        \n__________________________________________________________________________________________________\nblock5c_expand_activation (Acti (None, 10, 10, 672)  0           block5c_expand_bn[0][0]          \n__________________________________________________________________________________________________\nblock5c_dwconv (DepthwiseConv2D (None, 10, 10, 672)  16800       block5c_expand_activation[0][0]  \n__________________________________________________________________________________________________\nblock5c_bn (BatchNormalization) (None, 10, 10, 672)  2688        block5c_dwconv[0][0]             \n__________________________________________________________________________________________________\nblock5c_activation (Activation) (None, 10, 10, 672)  0           block5c_bn[0][0]                 \n__________________________________________________________________________________________________\nblock5c_se_squeeze (GlobalAvera (None, 672)          0           block5c_activation[0][0]         \n__________________________________________________________________________________________________\nblock5c_se_reshape (Reshape)    (None, 1, 1, 672)    0           block5c_se_squeeze[0][0]         \n__________________________________________________________________________________________________\nblock5c_se_reduce (Conv2D)      (None, 1, 1, 28)     18844       block5c_se_reshape[0][0]         \n__________________________________________________________________________________________________\nblock5c_se_expand (Conv2D)      (None, 1, 1, 672)    19488       block5c_se_reduce[0][0]          \n__________________________________________________________________________________________________\nblock5c_se_excite (Multiply)    (None, 10, 10, 672)  0           block5c_activation[0][0]         \n                                                                 block5c_se_expand[0][0]          \n__________________________________________________________________________________________________\nblock5c_project_conv (Conv2D)   (None, 10, 10, 112)  75264       block5c_se_excite[0][0]          \n__________________________________________________________________________________________________\nblock5c_project_bn (BatchNormal (None, 10, 10, 112)  448         block5c_project_conv[0][0]       \n__________________________________________________________________________________________________\nblock5c_drop (Dropout)          (None, 10, 10, 112)  0           block5c_project_bn[0][0]         \n__________________________________________________________________________________________________\nblock5c_add (Add)               (None, 10, 10, 112)  0           block5c_drop[0][0]               \n                                                                 block5b_add[0][0]                \n__________________________________________________________________________________________________\nblock6a_expand_conv (Conv2D)    (None, 10, 10, 672)  75264       block5c_add[0][0]                \n__________________________________________________________________________________________________\nblock6a_expand_bn (BatchNormali (None, 10, 10, 672)  2688        block6a_expand_conv[0][0]        \n__________________________________________________________________________________________________\nblock6a_expand_activation (Acti (None, 10, 10, 672)  0           block6a_expand_bn[0][0]          \n__________________________________________________________________________________________________\nblock6a_dwconv_pad (ZeroPadding (None, 13, 13, 672)  0           block6a_expand_activation[0][0]  \n__________________________________________________________________________________________________\nblock6a_dwconv (DepthwiseConv2D (None, 5, 5, 672)    16800       block6a_dwconv_pad[0][0]         \n__________________________________________________________________________________________________\nblock6a_bn (BatchNormalization) (None, 5, 5, 672)    2688        block6a_dwconv[0][0]             \n__________________________________________________________________________________________________\nblock6a_activation (Activation) (None, 5, 5, 672)    0           block6a_bn[0][0]                 \n__________________________________________________________________________________________________\nblock6a_se_squeeze (GlobalAvera (None, 672)          0           block6a_activation[0][0]         \n__________________________________________________________________________________________________\nblock6a_se_reshape (Reshape)    (None, 1, 1, 672)    0           block6a_se_squeeze[0][0]         \n__________________________________________________________________________________________________\nblock6a_se_reduce (Conv2D)      (None, 1, 1, 28)     18844       block6a_se_reshape[0][0]         \n__________________________________________________________________________________________________\nblock6a_se_expand (Conv2D)      (None, 1, 1, 672)    19488       block6a_se_reduce[0][0]          \n__________________________________________________________________________________________________\nblock6a_se_excite (Multiply)    (None, 5, 5, 672)    0           block6a_activation[0][0]         \n                                                                 block6a_se_expand[0][0]          \n__________________________________________________________________________________________________\nblock6a_project_conv (Conv2D)   (None, 5, 5, 192)    129024      block6a_se_excite[0][0]          \n__________________________________________________________________________________________________\nblock6a_project_bn (BatchNormal (None, 5, 5, 192)    768         block6a_project_conv[0][0]       \n__________________________________________________________________________________________________\nblock6b_expand_conv (Conv2D)    (None, 5, 5, 1152)   221184      block6a_project_bn[0][0]         \n__________________________________________________________________________________________________\nblock6b_expand_bn (BatchNormali (None, 5, 5, 1152)   4608        block6b_expand_conv[0][0]        \n__________________________________________________________________________________________________\nblock6b_expand_activation (Acti (None, 5, 5, 1152)   0           block6b_expand_bn[0][0]          \n__________________________________________________________________________________________________\nblock6b_dwconv (DepthwiseConv2D (None, 5, 5, 1152)   28800       block6b_expand_activation[0][0]  \n__________________________________________________________________________________________________\nblock6b_bn (BatchNormalization) (None, 5, 5, 1152)   4608        block6b_dwconv[0][0]             \n__________________________________________________________________________________________________\nblock6b_activation (Activation) (None, 5, 5, 1152)   0           block6b_bn[0][0]                 \n__________________________________________________________________________________________________\nblock6b_se_squeeze (GlobalAvera (None, 1152)         0           block6b_activation[0][0]         \n__________________________________________________________________________________________________\nblock6b_se_reshape (Reshape)    (None, 1, 1, 1152)   0           block6b_se_squeeze[0][0]         \n__________________________________________________________________________________________________\nblock6b_se_reduce (Conv2D)      (None, 1, 1, 48)     55344       block6b_se_reshape[0][0]         \n__________________________________________________________________________________________________\nblock6b_se_expand (Conv2D)      (None, 1, 1, 1152)   56448       block6b_se_reduce[0][0]          \n__________________________________________________________________________________________________\nblock6b_se_excite (Multiply)    (None, 5, 5, 1152)   0           block6b_activation[0][0]         \n                                                                 block6b_se_expand[0][0]          \n__________________________________________________________________________________________________\nblock6b_project_conv (Conv2D)   (None, 5, 5, 192)    221184      block6b_se_excite[0][0]          \n__________________________________________________________________________________________________\nblock6b_project_bn (BatchNormal (None, 5, 5, 192)    768         block6b_project_conv[0][0]       \n__________________________________________________________________________________________________\nblock6b_drop (Dropout)          (None, 5, 5, 192)    0           block6b_project_bn[0][0]         \n__________________________________________________________________________________________________\nblock6b_add (Add)               (None, 5, 5, 192)    0           block6b_drop[0][0]               \n                                                                 block6a_project_bn[0][0]         \n__________________________________________________________________________________________________\nblock6c_expand_conv (Conv2D)    (None, 5, 5, 1152)   221184      block6b_add[0][0]                \n__________________________________________________________________________________________________\nblock6c_expand_bn (BatchNormali (None, 5, 5, 1152)   4608        block6c_expand_conv[0][0]        \n__________________________________________________________________________________________________\nblock6c_expand_activation (Acti (None, 5, 5, 1152)   0           block6c_expand_bn[0][0]          \n__________________________________________________________________________________________________\nblock6c_dwconv (DepthwiseConv2D (None, 5, 5, 1152)   28800       block6c_expand_activation[0][0]  \n__________________________________________________________________________________________________\nblock6c_bn (BatchNormalization) (None, 5, 5, 1152)   4608        block6c_dwconv[0][0]             \n__________________________________________________________________________________________________\nblock6c_activation (Activation) (None, 5, 5, 1152)   0           block6c_bn[0][0]                 \n__________________________________________________________________________________________________\nblock6c_se_squeeze (GlobalAvera (None, 1152)         0           block6c_activation[0][0]         \n__________________________________________________________________________________________________\nblock6c_se_reshape (Reshape)    (None, 1, 1, 1152)   0           block6c_se_squeeze[0][0]         \n__________________________________________________________________________________________________\nblock6c_se_reduce (Conv2D)      (None, 1, 1, 48)     55344       block6c_se_reshape[0][0]         \n__________________________________________________________________________________________________\nblock6c_se_expand (Conv2D)      (None, 1, 1, 1152)   56448       block6c_se_reduce[0][0]          \n__________________________________________________________________________________________________\nblock6c_se_excite (Multiply)    (None, 5, 5, 1152)   0           block6c_activation[0][0]         \n                                                                 block6c_se_expand[0][0]          \n__________________________________________________________________________________________________\nblock6c_project_conv (Conv2D)   (None, 5, 5, 192)    221184      block6c_se_excite[0][0]          \n__________________________________________________________________________________________________\nblock6c_project_bn (BatchNormal (None, 5, 5, 192)    768         block6c_project_conv[0][0]       \n__________________________________________________________________________________________________\nblock6c_drop (Dropout)          (None, 5, 5, 192)    0           block6c_project_bn[0][0]         \n__________________________________________________________________________________________________\nblock6c_add (Add)               (None, 5, 5, 192)    0           block6c_drop[0][0]               \n                                                                 block6b_add[0][0]                \n__________________________________________________________________________________________________\nblock6d_expand_conv (Conv2D)    (None, 5, 5, 1152)   221184      block6c_add[0][0]                \n__________________________________________________________________________________________________\nblock6d_expand_bn (BatchNormali (None, 5, 5, 1152)   4608        block6d_expand_conv[0][0]        \n__________________________________________________________________________________________________\nblock6d_expand_activation (Acti (None, 5, 5, 1152)   0           block6d_expand_bn[0][0]          \n__________________________________________________________________________________________________\nblock6d_dwconv (DepthwiseConv2D (None, 5, 5, 1152)   28800       block6d_expand_activation[0][0]  \n__________________________________________________________________________________________________\nblock6d_bn (BatchNormalization) (None, 5, 5, 1152)   4608        block6d_dwconv[0][0]             \n__________________________________________________________________________________________________\nblock6d_activation (Activation) (None, 5, 5, 1152)   0           block6d_bn[0][0]                 \n__________________________________________________________________________________________________\nblock6d_se_squeeze (GlobalAvera (None, 1152)         0           block6d_activation[0][0]         \n__________________________________________________________________________________________________\nblock6d_se_reshape (Reshape)    (None, 1, 1, 1152)   0           block6d_se_squeeze[0][0]         \n__________________________________________________________________________________________________\nblock6d_se_reduce (Conv2D)      (None, 1, 1, 48)     55344       block6d_se_reshape[0][0]         \n__________________________________________________________________________________________________\nblock6d_se_expand (Conv2D)      (None, 1, 1, 1152)   56448       block6d_se_reduce[0][0]          \n__________________________________________________________________________________________________\nblock6d_se_excite (Multiply)    (None, 5, 5, 1152)   0           block6d_activation[0][0]         \n                                                                 block6d_se_expand[0][0]          \n__________________________________________________________________________________________________\nblock6d_project_conv (Conv2D)   (None, 5, 5, 192)    221184      block6d_se_excite[0][0]          \n__________________________________________________________________________________________________\nblock6d_project_bn (BatchNormal (None, 5, 5, 192)    768         block6d_project_conv[0][0]       \n__________________________________________________________________________________________________\nblock6d_drop (Dropout)          (None, 5, 5, 192)    0           block6d_project_bn[0][0]         \n__________________________________________________________________________________________________\nblock6d_add (Add)               (None, 5, 5, 192)    0           block6d_drop[0][0]               \n                                                                 block6c_add[0][0]                \n__________________________________________________________________________________________________\nblock7a_expand_conv (Conv2D)    (None, 5, 5, 1152)   221184      block6d_add[0][0]                \n__________________________________________________________________________________________________\nblock7a_expand_bn (BatchNormali (None, 5, 5, 1152)   4608        block7a_expand_conv[0][0]        \n__________________________________________________________________________________________________\nblock7a_expand_activation (Acti (None, 5, 5, 1152)   0           block7a_expand_bn[0][0]          \n__________________________________________________________________________________________________\nblock7a_dwconv (DepthwiseConv2D (None, 5, 5, 1152)   10368       block7a_expand_activation[0][0]  \n__________________________________________________________________________________________________\nblock7a_bn (BatchNormalization) (None, 5, 5, 1152)   4608        block7a_dwconv[0][0]             \n__________________________________________________________________________________________________\nblock7a_activation (Activation) (None, 5, 5, 1152)   0           block7a_bn[0][0]                 \n__________________________________________________________________________________________________\nblock7a_se_squeeze (GlobalAvera (None, 1152)         0           block7a_activation[0][0]         \n__________________________________________________________________________________________________\nblock7a_se_reshape (Reshape)    (None, 1, 1, 1152)   0           block7a_se_squeeze[0][0]         \n__________________________________________________________________________________________________\nblock7a_se_reduce (Conv2D)      (None, 1, 1, 48)     55344       block7a_se_reshape[0][0]         \n__________________________________________________________________________________________________\nblock7a_se_expand (Conv2D)      (None, 1, 1, 1152)   56448       block7a_se_reduce[0][0]          \n__________________________________________________________________________________________________\nblock7a_se_excite (Multiply)    (None, 5, 5, 1152)   0           block7a_activation[0][0]         \n                                                                 block7a_se_expand[0][0]          \n__________________________________________________________________________________________________\nblock7a_project_conv (Conv2D)   (None, 5, 5, 320)    368640      block7a_se_excite[0][0]          \n__________________________________________________________________________________________________\nblock7a_project_bn (BatchNormal (None, 5, 5, 320)    1280        block7a_project_conv[0][0]       \n__________________________________________________________________________________________________\ntop_conv (Conv2D)               (None, 5, 5, 1280)   409600      block7a_project_bn[0][0]         \n__________________________________________________________________________________________________\ntop_bn (BatchNormalization)     (None, 5, 5, 1280)   5120        top_conv[0][0]                   \n__________________________________________________________________________________________________\ntop_activation (Activation)     (None, 5, 5, 1280)   0           top_bn[0][0]                     \n==================================================================================================\nTotal params: 4,049,571\nTrainable params: 0\nNon-trainable params: 4,049,571\n__________________________________________________________________________________________________\n"
     ]
    }
   ],
   "source": [
    "efn_model.summary()"
   ]
  },
  {
   "cell_type": "code",
   "execution_count": 56,
   "metadata": {},
   "outputs": [],
   "source": [
    "last_layer = efn_model.get_layer('block6a_expand_activation')"
   ]
  },
  {
   "cell_type": "code",
   "execution_count": 57,
   "metadata": {},
   "outputs": [
    {
     "output_type": "error",
     "ename": "TypeError",
     "evalue": "Inputs to a layer should be tensors. Got: <tensorflow.python.keras.layers.core.Activation object at 0x000001B2455AEB80>",
     "traceback": [
      "\u001b[1;31m---------------------------------------------------------------------------\u001b[0m",
      "\u001b[1;31mTypeError\u001b[0m                                 Traceback (most recent call last)",
      "\u001b[1;32m<ipython-input-57-b8a60ae324b1>\u001b[0m in \u001b[0;36m<module>\u001b[1;34m\u001b[0m\n\u001b[1;32m----> 1\u001b[1;33m \u001b[0mx\u001b[0m \u001b[1;33m=\u001b[0m \u001b[0mtf\u001b[0m\u001b[1;33m.\u001b[0m\u001b[0mkeras\u001b[0m\u001b[1;33m.\u001b[0m\u001b[0mlayers\u001b[0m\u001b[1;33m.\u001b[0m\u001b[0mFlatten\u001b[0m\u001b[1;33m(\u001b[0m\u001b[1;33m)\u001b[0m\u001b[1;33m(\u001b[0m\u001b[0mlast_layer\u001b[0m\u001b[1;33m)\u001b[0m\u001b[1;33m\u001b[0m\u001b[1;33m\u001b[0m\u001b[0m\n\u001b[0m\u001b[0;32m      2\u001b[0m \u001b[0mx\u001b[0m \u001b[1;33m=\u001b[0m \u001b[0mtf\u001b[0m\u001b[1;33m.\u001b[0m\u001b[0mkeras\u001b[0m\u001b[1;33m.\u001b[0m\u001b[0mlayers\u001b[0m\u001b[1;33m.\u001b[0m\u001b[0mDense\u001b[0m\u001b[1;33m(\u001b[0m\u001b[1;36m512\u001b[0m\u001b[1;33m,\u001b[0m \u001b[0mactivation\u001b[0m\u001b[1;33m=\u001b[0m\u001b[1;34m'relu'\u001b[0m\u001b[1;33m)\u001b[0m\u001b[1;33m(\u001b[0m\u001b[0mx\u001b[0m\u001b[1;33m)\u001b[0m\u001b[1;33m\u001b[0m\u001b[1;33m\u001b[0m\u001b[0m\n\u001b[0;32m      3\u001b[0m \u001b[0mx\u001b[0m \u001b[1;33m=\u001b[0m \u001b[0mtf\u001b[0m\u001b[1;33m.\u001b[0m\u001b[0mkeras\u001b[0m\u001b[1;33m.\u001b[0m\u001b[0mlayers\u001b[0m\u001b[1;33m.\u001b[0m\u001b[0mDense\u001b[0m\u001b[1;33m(\u001b[0m\u001b[1;36m20\u001b[0m\u001b[1;33m,\u001b[0m \u001b[0mactivation\u001b[0m\u001b[1;33m=\u001b[0m\u001b[1;34m'softmax'\u001b[0m\u001b[1;33m)\u001b[0m\u001b[1;33m(\u001b[0m\u001b[0mx\u001b[0m\u001b[1;33m)\u001b[0m\u001b[1;33m\u001b[0m\u001b[1;33m\u001b[0m\u001b[0m\n\u001b[0;32m      4\u001b[0m \u001b[1;33m\u001b[0m\u001b[0m\n\u001b[0;32m      5\u001b[0m \u001b[0mmodel\u001b[0m \u001b[1;33m=\u001b[0m \u001b[0mtf\u001b[0m\u001b[1;33m.\u001b[0m\u001b[0mkeras\u001b[0m\u001b[1;33m.\u001b[0m\u001b[0mModel\u001b[0m\u001b[1;33m(\u001b[0m\u001b[0mefn_model\u001b[0m\u001b[1;33m.\u001b[0m\u001b[0minput\u001b[0m\u001b[1;33m,\u001b[0m \u001b[0mx\u001b[0m\u001b[1;33m)\u001b[0m\u001b[1;33m\u001b[0m\u001b[1;33m\u001b[0m\u001b[0m\n",
      "\u001b[1;32m~\\miniconda3\\lib\\site-packages\\tensorflow\\python\\keras\\engine\\base_layer.py\u001b[0m in \u001b[0;36m__call__\u001b[1;34m(self, *args, **kwargs)\u001b[0m\n\u001b[0;32m   1011\u001b[0m         training=training_mode):\n\u001b[0;32m   1012\u001b[0m \u001b[1;33m\u001b[0m\u001b[0m\n\u001b[1;32m-> 1013\u001b[1;33m       \u001b[0minput_spec\u001b[0m\u001b[1;33m.\u001b[0m\u001b[0massert_input_compatibility\u001b[0m\u001b[1;33m(\u001b[0m\u001b[0mself\u001b[0m\u001b[1;33m.\u001b[0m\u001b[0minput_spec\u001b[0m\u001b[1;33m,\u001b[0m \u001b[0minputs\u001b[0m\u001b[1;33m,\u001b[0m \u001b[0mself\u001b[0m\u001b[1;33m.\u001b[0m\u001b[0mname\u001b[0m\u001b[1;33m)\u001b[0m\u001b[1;33m\u001b[0m\u001b[1;33m\u001b[0m\u001b[0m\n\u001b[0m\u001b[0;32m   1014\u001b[0m       \u001b[1;32mif\u001b[0m \u001b[0meager\u001b[0m\u001b[1;33m:\u001b[0m\u001b[1;33m\u001b[0m\u001b[1;33m\u001b[0m\u001b[0m\n\u001b[0;32m   1015\u001b[0m         \u001b[0mcall_fn\u001b[0m \u001b[1;33m=\u001b[0m \u001b[0mself\u001b[0m\u001b[1;33m.\u001b[0m\u001b[0mcall\u001b[0m\u001b[1;33m\u001b[0m\u001b[1;33m\u001b[0m\u001b[0m\n",
      "\u001b[1;32m~\\miniconda3\\lib\\site-packages\\tensorflow\\python\\keras\\engine\\input_spec.py\u001b[0m in \u001b[0;36massert_input_compatibility\u001b[1;34m(input_spec, inputs, layer_name)\u001b[0m\n\u001b[0;32m    195\u001b[0m     \u001b[1;31m# have a `shape` attribute.\u001b[0m\u001b[1;33m\u001b[0m\u001b[1;33m\u001b[0m\u001b[1;33m\u001b[0m\u001b[0m\n\u001b[0;32m    196\u001b[0m     \u001b[1;32mif\u001b[0m \u001b[1;32mnot\u001b[0m \u001b[0mhasattr\u001b[0m\u001b[1;33m(\u001b[0m\u001b[0mx\u001b[0m\u001b[1;33m,\u001b[0m \u001b[1;34m'shape'\u001b[0m\u001b[1;33m)\u001b[0m\u001b[1;33m:\u001b[0m\u001b[1;33m\u001b[0m\u001b[1;33m\u001b[0m\u001b[0m\n\u001b[1;32m--> 197\u001b[1;33m       \u001b[1;32mraise\u001b[0m \u001b[0mTypeError\u001b[0m\u001b[1;33m(\u001b[0m\u001b[1;34m'Inputs to a layer should be tensors. Got: %s'\u001b[0m \u001b[1;33m%\u001b[0m \u001b[1;33m(\u001b[0m\u001b[0mx\u001b[0m\u001b[1;33m,\u001b[0m\u001b[1;33m)\u001b[0m\u001b[1;33m)\u001b[0m\u001b[1;33m\u001b[0m\u001b[1;33m\u001b[0m\u001b[0m\n\u001b[0m\u001b[0;32m    198\u001b[0m \u001b[1;33m\u001b[0m\u001b[0m\n\u001b[0;32m    199\u001b[0m   \u001b[1;32mif\u001b[0m \u001b[0mlen\u001b[0m\u001b[1;33m(\u001b[0m\u001b[0minputs\u001b[0m\u001b[1;33m)\u001b[0m \u001b[1;33m!=\u001b[0m \u001b[0mlen\u001b[0m\u001b[1;33m(\u001b[0m\u001b[0minput_spec\u001b[0m\u001b[1;33m)\u001b[0m\u001b[1;33m:\u001b[0m\u001b[1;33m\u001b[0m\u001b[1;33m\u001b[0m\u001b[0m\n",
      "\u001b[1;31mTypeError\u001b[0m: Inputs to a layer should be tensors. Got: <tensorflow.python.keras.layers.core.Activation object at 0x000001B2455AEB80>"
     ]
    }
   ],
   "source": [
    "x = tf.keras.layers.Flatten()(last_layer)\n",
    "x = tf.keras.layers.Dense(512, activation='relu')(x)\n",
    "x = tf.keras.layers.Dense(20, activation='softmax')(x)\n",
    "\n",
    "model = tf.keras.Model(efn_model.input, x)"
   ]
  },
  {
   "cell_type": "code",
   "execution_count": 40,
   "metadata": {},
   "outputs": [],
   "source": [
    "'''global_average_layer = tf.keras.layers.GlobalAveragePooling2D()\n",
    "output_layer = tf.keras.layers.Dense(20, activation='softmax')\n",
    "model = tf.keras.Sequential([\n",
    "    efn_model,\n",
    "    global_average_layer,\n",
    "    output_layer\n",
    "])'''"
   ]
  },
  {
   "cell_type": "code",
   "execution_count": 12,
   "id": "83c0c4bc",
   "metadata": {},
   "outputs": [
    {
     "output_type": "stream",
     "name": "stdout",
     "text": [
      "Model: \"sequential\"\n_________________________________________________________________\nLayer (type)                 Output Shape              Param #   \n=================================================================\nconv2d (Conv2D)              (None, 148, 148, 32)      896       \n_________________________________________________________________\nmax_pooling2d (MaxPooling2D) (None, 74, 74, 32)        0         \n_________________________________________________________________\nconv2d_1 (Conv2D)            (None, 72, 72, 64)        18496     \n_________________________________________________________________\nmax_pooling2d_1 (MaxPooling2 (None, 36, 36, 64)        0         \n_________________________________________________________________\nflatten (Flatten)            (None, 82944)             0         \n_________________________________________________________________\ndense (Dense)                (None, 256)               21233920  \n_________________________________________________________________\ndense_1 (Dense)              (None, 20)                5140      \n=================================================================\nTotal params: 21,258,452\nTrainable params: 21,258,452\nNon-trainable params: 0\n_________________________________________________________________\n"
     ]
    }
   ],
   "source": [
    "\n",
    "#Vanilla model\n",
    "\n",
    "model = tf.keras.models.Sequential([\n",
    "    tf.keras.layers.Conv2D(32, (3, 3), activation='relu', input_shape=(IMAGE_SHAPE + [3])),\n",
    "    tf.keras.layers.MaxPool2D(2, 2),\n",
    "    tf.keras.layers.Conv2D(64, (3, 3), activation='relu'),\n",
    "    tf.keras.layers.MaxPool2D(2, 2),\n",
    "    tf.keras.layers.Flatten(),\n",
    "    tf.keras.layers.Dense(256, activation = 'relu'),\n",
    "    #20 Batik class, might add more later?\n",
    "    tf.keras.layers.Dense(20, activation = 'softmax')\n",
    "])\n",
    "\n",
    "model.summary()\n"
   ]
  },
  {
   "cell_type": "markdown",
   "id": "bb8613bb",
   "metadata": {},
   "source": [
    "## Compiling"
   ]
  },
  {
   "cell_type": "code",
   "execution_count": 13,
   "id": "52cbf94f",
   "metadata": {},
   "outputs": [],
   "source": [
    "model.compile(\n",
    "    loss='categorical_crossentropy',\n",
    "    optimizer='adam',\n",
    "    metrics=['accuracy']\n",
    ")"
   ]
  },
  {
   "cell_type": "markdown",
   "id": "0704546d",
   "metadata": {},
   "source": [
    "## Training"
   ]
  },
  {
   "cell_type": "code",
   "execution_count": 14,
   "id": "7a46115a",
   "metadata": {},
   "outputs": [
    {
     "output_type": "stream",
     "name": "stdout",
     "text": [
      "Epoch 1/5\n",
      "213/213 [==============================] - 382s 2s/step - loss: 3.0998 - accuracy: 0.0598 - val_loss: 2.9684 - val_accuracy: 0.0618\n",
      "Epoch 2/5\n",
      "213/213 [==============================] - 161s 758ms/step - loss: 2.9601 - accuracy: 0.0759 - val_loss: 2.9373 - val_accuracy: 0.0924\n",
      "Epoch 3/5\n",
      "213/213 [==============================] - 81s 382ms/step - loss: 2.9309 - accuracy: 0.0911 - val_loss: 2.8894 - val_accuracy: 0.1015\n",
      "Epoch 4/5\n",
      "213/213 [==============================] - 81s 380ms/step - loss: 2.8939 - accuracy: 0.1127 - val_loss: 2.8904 - val_accuracy: 0.1133\n",
      "Epoch 5/5\n",
      "213/213 [==============================] - 82s 385ms/step - loss: 2.8614 - accuracy: 0.1223 - val_loss: 2.8433 - val_accuracy: 0.1286\n"
     ]
    }
   ],
   "source": [
    "history = model.fit(\n",
    "    training_generator,\n",
    "    validation_data=testing_generator,\n",
    "    epochs=5\n",
    ")"
   ]
  },
  {
   "cell_type": "markdown",
   "id": "531ee229-4ed9-4fb4-aecf-263e0cd29606",
   "metadata": {},
   "source": [
    "## Graphing"
   ]
  },
  {
   "cell_type": "code",
   "execution_count": 15,
   "id": "5ac3651d-f2fc-40d3-8493-e14f8b0fe924",
   "metadata": {},
   "outputs": [
    {
     "output_type": "execute_result",
     "data": {
      "text/plain": [
       "<matplotlib.legend.Legend at 0x287473b2f70>"
      ]
     },
     "metadata": {},
     "execution_count": 15
    },
    {
     "output_type": "display_data",
     "data": {
      "text/plain": "<Figure size 432x288 with 2 Axes>",
      "image/svg+xml": "<?xml version=\"1.0\" encoding=\"utf-8\" standalone=\"no\"?>\r\n<!DOCTYPE svg PUBLIC \"-//W3C//DTD SVG 1.1//EN\"\r\n  \"http://www.w3.org/Graphics/SVG/1.1/DTD/svg11.dtd\">\r\n<!-- Created with matplotlib (https://matplotlib.org/) -->\r\n<svg height=\"262.19625pt\" version=\"1.1\" viewBox=\"0 0 385.78125 262.19625\" width=\"385.78125pt\" xmlns=\"http://www.w3.org/2000/svg\" xmlns:xlink=\"http://www.w3.org/1999/xlink\">\r\n <metadata>\r\n  <rdf:RDF xmlns:cc=\"http://creativecommons.org/ns#\" xmlns:dc=\"http://purl.org/dc/elements/1.1/\" xmlns:rdf=\"http://www.w3.org/1999/02/22-rdf-syntax-ns#\">\r\n   <cc:Work>\r\n    <dc:type rdf:resource=\"http://purl.org/dc/dcmitype/StillImage\"/>\r\n    <dc:date>2021-05-19T19:46:15.503235</dc:date>\r\n    <dc:format>image/svg+xml</dc:format>\r\n    <dc:creator>\r\n     <cc:Agent>\r\n      <dc:title>Matplotlib v3.3.4, https://matplotlib.org/</dc:title>\r\n     </cc:Agent>\r\n    </dc:creator>\r\n   </cc:Work>\r\n  </rdf:RDF>\r\n </metadata>\r\n <defs>\r\n  <style type=\"text/css\">*{stroke-linecap:butt;stroke-linejoin:round;}</style>\r\n </defs>\r\n <g id=\"figure_1\">\r\n  <g id=\"patch_1\">\r\n   <path d=\"M 0 262.19625 \r\nL 385.78125 262.19625 \r\nL 385.78125 -0 \r\nL 0 -0 \r\nz\r\n\" style=\"fill:none;\"/>\r\n  </g>\r\n  <g id=\"axes_1\">\r\n   <g id=\"patch_2\">\r\n    <path d=\"M 43.78125 106.036364 \r\nL 378.58125 106.036364 \r\nL 378.58125 7.2 \r\nL 43.78125 7.2 \r\nz\r\n\" style=\"fill:#ffffff;\"/>\r\n   </g>\r\n   <g id=\"matplotlib.axis_1\">\r\n    <g id=\"xtick_1\">\r\n     <g id=\"line2d_1\">\r\n      <defs>\r\n       <path d=\"M 0 0 \r\nL 0 3.5 \r\n\" id=\"maf0bd3f7f9\" style=\"stroke:#000000;stroke-width:0.8;\"/>\r\n      </defs>\r\n      <g>\r\n       <use style=\"stroke:#000000;stroke-width:0.8;\" x=\"58.999432\" xlink:href=\"#maf0bd3f7f9\" y=\"106.036364\"/>\r\n      </g>\r\n     </g>\r\n     <g id=\"text_1\">\r\n      <!-- 0.0 -->\r\n      <g transform=\"translate(51.047869 120.634801)scale(0.1 -0.1)\">\r\n       <defs>\r\n        <path d=\"M 31.78125 66.40625 \r\nQ 24.171875 66.40625 20.328125 58.90625 \r\nQ 16.5 51.421875 16.5 36.375 \r\nQ 16.5 21.390625 20.328125 13.890625 \r\nQ 24.171875 6.390625 31.78125 6.390625 \r\nQ 39.453125 6.390625 43.28125 13.890625 \r\nQ 47.125 21.390625 47.125 36.375 \r\nQ 47.125 51.421875 43.28125 58.90625 \r\nQ 39.453125 66.40625 31.78125 66.40625 \r\nz\r\nM 31.78125 74.21875 \r\nQ 44.046875 74.21875 50.515625 64.515625 \r\nQ 56.984375 54.828125 56.984375 36.375 \r\nQ 56.984375 17.96875 50.515625 8.265625 \r\nQ 44.046875 -1.421875 31.78125 -1.421875 \r\nQ 19.53125 -1.421875 13.0625 8.265625 \r\nQ 6.59375 17.96875 6.59375 36.375 \r\nQ 6.59375 54.828125 13.0625 64.515625 \r\nQ 19.53125 74.21875 31.78125 74.21875 \r\nz\r\n\" id=\"DejaVuSans-48\"/>\r\n        <path d=\"M 10.6875 12.40625 \r\nL 21 12.40625 \r\nL 21 0 \r\nL 10.6875 0 \r\nz\r\n\" id=\"DejaVuSans-46\"/>\r\n       </defs>\r\n       <use xlink:href=\"#DejaVuSans-48\"/>\r\n       <use x=\"63.623047\" xlink:href=\"#DejaVuSans-46\"/>\r\n       <use x=\"95.410156\" xlink:href=\"#DejaVuSans-48\"/>\r\n      </g>\r\n     </g>\r\n    </g>\r\n    <g id=\"xtick_2\">\r\n     <g id=\"line2d_2\">\r\n      <g>\r\n       <use style=\"stroke:#000000;stroke-width:0.8;\" x=\"97.044886\" xlink:href=\"#maf0bd3f7f9\" y=\"106.036364\"/>\r\n      </g>\r\n     </g>\r\n     <g id=\"text_2\">\r\n      <!-- 0.5 -->\r\n      <g transform=\"translate(89.093324 120.634801)scale(0.1 -0.1)\">\r\n       <defs>\r\n        <path d=\"M 10.796875 72.90625 \r\nL 49.515625 72.90625 \r\nL 49.515625 64.59375 \r\nL 19.828125 64.59375 \r\nL 19.828125 46.734375 \r\nQ 21.96875 47.46875 24.109375 47.828125 \r\nQ 26.265625 48.1875 28.421875 48.1875 \r\nQ 40.625 48.1875 47.75 41.5 \r\nQ 54.890625 34.8125 54.890625 23.390625 \r\nQ 54.890625 11.625 47.5625 5.09375 \r\nQ 40.234375 -1.421875 26.90625 -1.421875 \r\nQ 22.3125 -1.421875 17.546875 -0.640625 \r\nQ 12.796875 0.140625 7.71875 1.703125 \r\nL 7.71875 11.625 \r\nQ 12.109375 9.234375 16.796875 8.0625 \r\nQ 21.484375 6.890625 26.703125 6.890625 \r\nQ 35.15625 6.890625 40.078125 11.328125 \r\nQ 45.015625 15.765625 45.015625 23.390625 \r\nQ 45.015625 31 40.078125 35.4375 \r\nQ 35.15625 39.890625 26.703125 39.890625 \r\nQ 22.75 39.890625 18.8125 39.015625 \r\nQ 14.890625 38.140625 10.796875 36.28125 \r\nz\r\n\" id=\"DejaVuSans-53\"/>\r\n       </defs>\r\n       <use xlink:href=\"#DejaVuSans-48\"/>\r\n       <use x=\"63.623047\" xlink:href=\"#DejaVuSans-46\"/>\r\n       <use x=\"95.410156\" xlink:href=\"#DejaVuSans-53\"/>\r\n      </g>\r\n     </g>\r\n    </g>\r\n    <g id=\"xtick_3\">\r\n     <g id=\"line2d_3\">\r\n      <g>\r\n       <use style=\"stroke:#000000;stroke-width:0.8;\" x=\"135.090341\" xlink:href=\"#maf0bd3f7f9\" y=\"106.036364\"/>\r\n      </g>\r\n     </g>\r\n     <g id=\"text_3\">\r\n      <!-- 1.0 -->\r\n      <g transform=\"translate(127.138778 120.634801)scale(0.1 -0.1)\">\r\n       <defs>\r\n        <path d=\"M 12.40625 8.296875 \r\nL 28.515625 8.296875 \r\nL 28.515625 63.921875 \r\nL 10.984375 60.40625 \r\nL 10.984375 69.390625 \r\nL 28.421875 72.90625 \r\nL 38.28125 72.90625 \r\nL 38.28125 8.296875 \r\nL 54.390625 8.296875 \r\nL 54.390625 0 \r\nL 12.40625 0 \r\nz\r\n\" id=\"DejaVuSans-49\"/>\r\n       </defs>\r\n       <use xlink:href=\"#DejaVuSans-49\"/>\r\n       <use x=\"63.623047\" xlink:href=\"#DejaVuSans-46\"/>\r\n       <use x=\"95.410156\" xlink:href=\"#DejaVuSans-48\"/>\r\n      </g>\r\n     </g>\r\n    </g>\r\n    <g id=\"xtick_4\">\r\n     <g id=\"line2d_4\">\r\n      <g>\r\n       <use style=\"stroke:#000000;stroke-width:0.8;\" x=\"173.135795\" xlink:href=\"#maf0bd3f7f9\" y=\"106.036364\"/>\r\n      </g>\r\n     </g>\r\n     <g id=\"text_4\">\r\n      <!-- 1.5 -->\r\n      <g transform=\"translate(165.184233 120.634801)scale(0.1 -0.1)\">\r\n       <use xlink:href=\"#DejaVuSans-49\"/>\r\n       <use x=\"63.623047\" xlink:href=\"#DejaVuSans-46\"/>\r\n       <use x=\"95.410156\" xlink:href=\"#DejaVuSans-53\"/>\r\n      </g>\r\n     </g>\r\n    </g>\r\n    <g id=\"xtick_5\">\r\n     <g id=\"line2d_5\">\r\n      <g>\r\n       <use style=\"stroke:#000000;stroke-width:0.8;\" x=\"211.18125\" xlink:href=\"#maf0bd3f7f9\" y=\"106.036364\"/>\r\n      </g>\r\n     </g>\r\n     <g id=\"text_5\">\r\n      <!-- 2.0 -->\r\n      <g transform=\"translate(203.229688 120.634801)scale(0.1 -0.1)\">\r\n       <defs>\r\n        <path d=\"M 19.1875 8.296875 \r\nL 53.609375 8.296875 \r\nL 53.609375 0 \r\nL 7.328125 0 \r\nL 7.328125 8.296875 \r\nQ 12.9375 14.109375 22.625 23.890625 \r\nQ 32.328125 33.6875 34.8125 36.53125 \r\nQ 39.546875 41.84375 41.421875 45.53125 \r\nQ 43.3125 49.21875 43.3125 52.78125 \r\nQ 43.3125 58.59375 39.234375 62.25 \r\nQ 35.15625 65.921875 28.609375 65.921875 \r\nQ 23.96875 65.921875 18.8125 64.3125 \r\nQ 13.671875 62.703125 7.8125 59.421875 \r\nL 7.8125 69.390625 \r\nQ 13.765625 71.78125 18.9375 73 \r\nQ 24.125 74.21875 28.421875 74.21875 \r\nQ 39.75 74.21875 46.484375 68.546875 \r\nQ 53.21875 62.890625 53.21875 53.421875 \r\nQ 53.21875 48.921875 51.53125 44.890625 \r\nQ 49.859375 40.875 45.40625 35.40625 \r\nQ 44.1875 33.984375 37.640625 27.21875 \r\nQ 31.109375 20.453125 19.1875 8.296875 \r\nz\r\n\" id=\"DejaVuSans-50\"/>\r\n       </defs>\r\n       <use xlink:href=\"#DejaVuSans-50\"/>\r\n       <use x=\"63.623047\" xlink:href=\"#DejaVuSans-46\"/>\r\n       <use x=\"95.410156\" xlink:href=\"#DejaVuSans-48\"/>\r\n      </g>\r\n     </g>\r\n    </g>\r\n    <g id=\"xtick_6\">\r\n     <g id=\"line2d_6\">\r\n      <g>\r\n       <use style=\"stroke:#000000;stroke-width:0.8;\" x=\"249.226705\" xlink:href=\"#maf0bd3f7f9\" y=\"106.036364\"/>\r\n      </g>\r\n     </g>\r\n     <g id=\"text_6\">\r\n      <!-- 2.5 -->\r\n      <g transform=\"translate(241.275142 120.634801)scale(0.1 -0.1)\">\r\n       <use xlink:href=\"#DejaVuSans-50\"/>\r\n       <use x=\"63.623047\" xlink:href=\"#DejaVuSans-46\"/>\r\n       <use x=\"95.410156\" xlink:href=\"#DejaVuSans-53\"/>\r\n      </g>\r\n     </g>\r\n    </g>\r\n    <g id=\"xtick_7\">\r\n     <g id=\"line2d_7\">\r\n      <g>\r\n       <use style=\"stroke:#000000;stroke-width:0.8;\" x=\"287.272159\" xlink:href=\"#maf0bd3f7f9\" y=\"106.036364\"/>\r\n      </g>\r\n     </g>\r\n     <g id=\"text_7\">\r\n      <!-- 3.0 -->\r\n      <g transform=\"translate(279.320597 120.634801)scale(0.1 -0.1)\">\r\n       <defs>\r\n        <path d=\"M 40.578125 39.3125 \r\nQ 47.65625 37.796875 51.625 33 \r\nQ 55.609375 28.21875 55.609375 21.1875 \r\nQ 55.609375 10.40625 48.1875 4.484375 \r\nQ 40.765625 -1.421875 27.09375 -1.421875 \r\nQ 22.515625 -1.421875 17.65625 -0.515625 \r\nQ 12.796875 0.390625 7.625 2.203125 \r\nL 7.625 11.71875 \r\nQ 11.71875 9.328125 16.59375 8.109375 \r\nQ 21.484375 6.890625 26.8125 6.890625 \r\nQ 36.078125 6.890625 40.9375 10.546875 \r\nQ 45.796875 14.203125 45.796875 21.1875 \r\nQ 45.796875 27.640625 41.28125 31.265625 \r\nQ 36.765625 34.90625 28.71875 34.90625 \r\nL 20.21875 34.90625 \r\nL 20.21875 43.015625 \r\nL 29.109375 43.015625 \r\nQ 36.375 43.015625 40.234375 45.921875 \r\nQ 44.09375 48.828125 44.09375 54.296875 \r\nQ 44.09375 59.90625 40.109375 62.90625 \r\nQ 36.140625 65.921875 28.71875 65.921875 \r\nQ 24.65625 65.921875 20.015625 65.03125 \r\nQ 15.375 64.15625 9.8125 62.3125 \r\nL 9.8125 71.09375 \r\nQ 15.4375 72.65625 20.34375 73.4375 \r\nQ 25.25 74.21875 29.59375 74.21875 \r\nQ 40.828125 74.21875 47.359375 69.109375 \r\nQ 53.90625 64.015625 53.90625 55.328125 \r\nQ 53.90625 49.265625 50.4375 45.09375 \r\nQ 46.96875 40.921875 40.578125 39.3125 \r\nz\r\n\" id=\"DejaVuSans-51\"/>\r\n       </defs>\r\n       <use xlink:href=\"#DejaVuSans-51\"/>\r\n       <use x=\"63.623047\" xlink:href=\"#DejaVuSans-46\"/>\r\n       <use x=\"95.410156\" xlink:href=\"#DejaVuSans-48\"/>\r\n      </g>\r\n     </g>\r\n    </g>\r\n    <g id=\"xtick_8\">\r\n     <g id=\"line2d_8\">\r\n      <g>\r\n       <use style=\"stroke:#000000;stroke-width:0.8;\" x=\"325.317614\" xlink:href=\"#maf0bd3f7f9\" y=\"106.036364\"/>\r\n      </g>\r\n     </g>\r\n     <g id=\"text_8\">\r\n      <!-- 3.5 -->\r\n      <g transform=\"translate(317.366051 120.634801)scale(0.1 -0.1)\">\r\n       <use xlink:href=\"#DejaVuSans-51\"/>\r\n       <use x=\"63.623047\" xlink:href=\"#DejaVuSans-46\"/>\r\n       <use x=\"95.410156\" xlink:href=\"#DejaVuSans-53\"/>\r\n      </g>\r\n     </g>\r\n    </g>\r\n    <g id=\"xtick_9\">\r\n     <g id=\"line2d_9\">\r\n      <g>\r\n       <use style=\"stroke:#000000;stroke-width:0.8;\" x=\"363.363068\" xlink:href=\"#maf0bd3f7f9\" y=\"106.036364\"/>\r\n      </g>\r\n     </g>\r\n     <g id=\"text_9\">\r\n      <!-- 4.0 -->\r\n      <g transform=\"translate(355.411506 120.634801)scale(0.1 -0.1)\">\r\n       <defs>\r\n        <path d=\"M 37.796875 64.3125 \r\nL 12.890625 25.390625 \r\nL 37.796875 25.390625 \r\nz\r\nM 35.203125 72.90625 \r\nL 47.609375 72.90625 \r\nL 47.609375 25.390625 \r\nL 58.015625 25.390625 \r\nL 58.015625 17.1875 \r\nL 47.609375 17.1875 \r\nL 47.609375 0 \r\nL 37.796875 0 \r\nL 37.796875 17.1875 \r\nL 4.890625 17.1875 \r\nL 4.890625 26.703125 \r\nz\r\n\" id=\"DejaVuSans-52\"/>\r\n       </defs>\r\n       <use xlink:href=\"#DejaVuSans-52\"/>\r\n       <use x=\"63.623047\" xlink:href=\"#DejaVuSans-46\"/>\r\n       <use x=\"95.410156\" xlink:href=\"#DejaVuSans-48\"/>\r\n      </g>\r\n     </g>\r\n    </g>\r\n   </g>\r\n   <g id=\"matplotlib.axis_2\">\r\n    <g id=\"ytick_1\">\r\n     <g id=\"line2d_10\">\r\n      <defs>\r\n       <path d=\"M 0 0 \r\nL -3.5 0 \r\n\" id=\"m89e4e64f84\" style=\"stroke:#000000;stroke-width:0.8;\"/>\r\n      </defs>\r\n      <g>\r\n       <use style=\"stroke:#000000;stroke-width:0.8;\" x=\"43.78125\" xlink:href=\"#m89e4e64f84\" y=\"101.222841\"/>\r\n      </g>\r\n     </g>\r\n     <g id=\"text_10\">\r\n      <!-- 0.06 -->\r\n      <g transform=\"translate(14.515625 105.02206)scale(0.1 -0.1)\">\r\n       <defs>\r\n        <path d=\"M 33.015625 40.375 \r\nQ 26.375 40.375 22.484375 35.828125 \r\nQ 18.609375 31.296875 18.609375 23.390625 \r\nQ 18.609375 15.53125 22.484375 10.953125 \r\nQ 26.375 6.390625 33.015625 6.390625 \r\nQ 39.65625 6.390625 43.53125 10.953125 \r\nQ 47.40625 15.53125 47.40625 23.390625 \r\nQ 47.40625 31.296875 43.53125 35.828125 \r\nQ 39.65625 40.375 33.015625 40.375 \r\nz\r\nM 52.59375 71.296875 \r\nL 52.59375 62.3125 \r\nQ 48.875 64.0625 45.09375 64.984375 \r\nQ 41.3125 65.921875 37.59375 65.921875 \r\nQ 27.828125 65.921875 22.671875 59.328125 \r\nQ 17.53125 52.734375 16.796875 39.40625 \r\nQ 19.671875 43.65625 24.015625 45.921875 \r\nQ 28.375 48.1875 33.59375 48.1875 \r\nQ 44.578125 48.1875 50.953125 41.515625 \r\nQ 57.328125 34.859375 57.328125 23.390625 \r\nQ 57.328125 12.15625 50.6875 5.359375 \r\nQ 44.046875 -1.421875 33.015625 -1.421875 \r\nQ 20.359375 -1.421875 13.671875 8.265625 \r\nQ 6.984375 17.96875 6.984375 36.375 \r\nQ 6.984375 53.65625 15.1875 63.9375 \r\nQ 23.390625 74.21875 37.203125 74.21875 \r\nQ 40.921875 74.21875 44.703125 73.484375 \r\nQ 48.484375 72.75 52.59375 71.296875 \r\nz\r\n\" id=\"DejaVuSans-54\"/>\r\n       </defs>\r\n       <use xlink:href=\"#DejaVuSans-48\"/>\r\n       <use x=\"63.623047\" xlink:href=\"#DejaVuSans-46\"/>\r\n       <use x=\"95.410156\" xlink:href=\"#DejaVuSans-48\"/>\r\n       <use x=\"159.033203\" xlink:href=\"#DejaVuSans-54\"/>\r\n      </g>\r\n     </g>\r\n    </g>\r\n    <g id=\"ytick_2\">\r\n     <g id=\"line2d_11\">\r\n      <g>\r\n       <use style=\"stroke:#000000;stroke-width:0.8;\" x=\"43.78125\" xlink:href=\"#m89e4e64f84\" y=\"75.10606\"/>\r\n      </g>\r\n     </g>\r\n     <g id=\"text_11\">\r\n      <!-- 0.08 -->\r\n      <g transform=\"translate(14.515625 78.905279)scale(0.1 -0.1)\">\r\n       <defs>\r\n        <path d=\"M 31.78125 34.625 \r\nQ 24.75 34.625 20.71875 30.859375 \r\nQ 16.703125 27.09375 16.703125 20.515625 \r\nQ 16.703125 13.921875 20.71875 10.15625 \r\nQ 24.75 6.390625 31.78125 6.390625 \r\nQ 38.8125 6.390625 42.859375 10.171875 \r\nQ 46.921875 13.96875 46.921875 20.515625 \r\nQ 46.921875 27.09375 42.890625 30.859375 \r\nQ 38.875 34.625 31.78125 34.625 \r\nz\r\nM 21.921875 38.8125 \r\nQ 15.578125 40.375 12.03125 44.71875 \r\nQ 8.5 49.078125 8.5 55.328125 \r\nQ 8.5 64.0625 14.71875 69.140625 \r\nQ 20.953125 74.21875 31.78125 74.21875 \r\nQ 42.671875 74.21875 48.875 69.140625 \r\nQ 55.078125 64.0625 55.078125 55.328125 \r\nQ 55.078125 49.078125 51.53125 44.71875 \r\nQ 48 40.375 41.703125 38.8125 \r\nQ 48.828125 37.15625 52.796875 32.3125 \r\nQ 56.78125 27.484375 56.78125 20.515625 \r\nQ 56.78125 9.90625 50.3125 4.234375 \r\nQ 43.84375 -1.421875 31.78125 -1.421875 \r\nQ 19.734375 -1.421875 13.25 4.234375 \r\nQ 6.78125 9.90625 6.78125 20.515625 \r\nQ 6.78125 27.484375 10.78125 32.3125 \r\nQ 14.796875 37.15625 21.921875 38.8125 \r\nz\r\nM 18.3125 54.390625 \r\nQ 18.3125 48.734375 21.84375 45.5625 \r\nQ 25.390625 42.390625 31.78125 42.390625 \r\nQ 38.140625 42.390625 41.71875 45.5625 \r\nQ 45.3125 48.734375 45.3125 54.390625 \r\nQ 45.3125 60.0625 41.71875 63.234375 \r\nQ 38.140625 66.40625 31.78125 66.40625 \r\nQ 25.390625 66.40625 21.84375 63.234375 \r\nQ 18.3125 60.0625 18.3125 54.390625 \r\nz\r\n\" id=\"DejaVuSans-56\"/>\r\n       </defs>\r\n       <use xlink:href=\"#DejaVuSans-48\"/>\r\n       <use x=\"63.623047\" xlink:href=\"#DejaVuSans-46\"/>\r\n       <use x=\"95.410156\" xlink:href=\"#DejaVuSans-48\"/>\r\n       <use x=\"159.033203\" xlink:href=\"#DejaVuSans-56\"/>\r\n      </g>\r\n     </g>\r\n    </g>\r\n    <g id=\"ytick_3\">\r\n     <g id=\"line2d_12\">\r\n      <g>\r\n       <use style=\"stroke:#000000;stroke-width:0.8;\" x=\"43.78125\" xlink:href=\"#m89e4e64f84\" y=\"48.98928\"/>\r\n      </g>\r\n     </g>\r\n     <g id=\"text_12\">\r\n      <!-- 0.10 -->\r\n      <g transform=\"translate(14.515625 52.788498)scale(0.1 -0.1)\">\r\n       <use xlink:href=\"#DejaVuSans-48\"/>\r\n       <use x=\"63.623047\" xlink:href=\"#DejaVuSans-46\"/>\r\n       <use x=\"95.410156\" xlink:href=\"#DejaVuSans-49\"/>\r\n       <use x=\"159.033203\" xlink:href=\"#DejaVuSans-48\"/>\r\n      </g>\r\n     </g>\r\n    </g>\r\n    <g id=\"ytick_4\">\r\n     <g id=\"line2d_13\">\r\n      <g>\r\n       <use style=\"stroke:#000000;stroke-width:0.8;\" x=\"43.78125\" xlink:href=\"#m89e4e64f84\" y=\"22.872499\"/>\r\n      </g>\r\n     </g>\r\n     <g id=\"text_13\">\r\n      <!-- 0.12 -->\r\n      <g transform=\"translate(14.515625 26.671717)scale(0.1 -0.1)\">\r\n       <use xlink:href=\"#DejaVuSans-48\"/>\r\n       <use x=\"63.623047\" xlink:href=\"#DejaVuSans-46\"/>\r\n       <use x=\"95.410156\" xlink:href=\"#DejaVuSans-49\"/>\r\n       <use x=\"159.033203\" xlink:href=\"#DejaVuSans-50\"/>\r\n      </g>\r\n     </g>\r\n    </g>\r\n   </g>\r\n   <g id=\"line2d_14\">\r\n    <path clip-path=\"url(#pdd2b8e6b0a)\" d=\"M 58.999432 101.543802 \r\nL 135.090341 80.402837 \r\nL 211.18125 60.6072 \r\nL 287.272159 32.451279 \r\nL 363.363068 19.862795 \r\n\" style=\"fill:none;stroke:#0000ff;stroke-linecap:square;stroke-width:1.5;\"/>\r\n   </g>\r\n   <g id=\"line2d_15\">\r\n    <path clip-path=\"url(#pdd2b8e6b0a)\" d=\"M 58.999432 98.80899 \r\nL 135.090341 58.880626 \r\nL 211.18125 47.083608 \r\nL 287.272159 31.656739 \r\nL 363.363068 11.692562 \r\n\" style=\"fill:none;stroke:#bfbf00;stroke-linecap:square;stroke-width:1.5;\"/>\r\n   </g>\r\n   <g id=\"patch_3\">\r\n    <path d=\"M 43.78125 106.036364 \r\nL 43.78125 7.2 \r\n\" style=\"fill:none;stroke:#000000;stroke-linecap:square;stroke-linejoin:miter;stroke-width:0.8;\"/>\r\n   </g>\r\n   <g id=\"patch_4\">\r\n    <path d=\"M 378.58125 106.036364 \r\nL 378.58125 7.2 \r\n\" style=\"fill:none;stroke:#000000;stroke-linecap:square;stroke-linejoin:miter;stroke-width:0.8;\"/>\r\n   </g>\r\n   <g id=\"patch_5\">\r\n    <path d=\"M 43.78125 106.036364 \r\nL 378.58125 106.036364 \r\n\" style=\"fill:none;stroke:#000000;stroke-linecap:square;stroke-linejoin:miter;stroke-width:0.8;\"/>\r\n   </g>\r\n   <g id=\"patch_6\">\r\n    <path d=\"M 43.78125 7.2 \r\nL 378.58125 7.2 \r\n\" style=\"fill:none;stroke:#000000;stroke-linecap:square;stroke-linejoin:miter;stroke-width:0.8;\"/>\r\n   </g>\r\n   <g id=\"legend_1\">\r\n    <g id=\"patch_7\">\r\n     <path d=\"M 50.78125 44.55625 \r\nL 180.459375 44.55625 \r\nQ 182.459375 44.55625 182.459375 42.55625 \r\nL 182.459375 14.2 \r\nQ 182.459375 12.2 180.459375 12.2 \r\nL 50.78125 12.2 \r\nQ 48.78125 12.2 48.78125 14.2 \r\nL 48.78125 42.55625 \r\nQ 48.78125 44.55625 50.78125 44.55625 \r\nz\r\n\" style=\"fill:#ffffff;opacity:0.8;stroke:#cccccc;stroke-linejoin:miter;\"/>\r\n    </g>\r\n    <g id=\"line2d_16\">\r\n     <path d=\"M 52.78125 20.298437 \r\nL 72.78125 20.298437 \r\n\" style=\"fill:none;stroke:#0000ff;stroke-linecap:square;stroke-width:1.5;\"/>\r\n    </g>\r\n    <g id=\"line2d_17\"/>\r\n    <g id=\"text_14\">\r\n     <!-- Training accuracy -->\r\n     <g transform=\"translate(80.78125 23.798437)scale(0.1 -0.1)\">\r\n      <defs>\r\n       <path d=\"M -0.296875 72.90625 \r\nL 61.375 72.90625 \r\nL 61.375 64.59375 \r\nL 35.5 64.59375 \r\nL 35.5 0 \r\nL 25.59375 0 \r\nL 25.59375 64.59375 \r\nL -0.296875 64.59375 \r\nz\r\n\" id=\"DejaVuSans-84\"/>\r\n       <path d=\"M 41.109375 46.296875 \r\nQ 39.59375 47.171875 37.8125 47.578125 \r\nQ 36.03125 48 33.890625 48 \r\nQ 26.265625 48 22.1875 43.046875 \r\nQ 18.109375 38.09375 18.109375 28.8125 \r\nL 18.109375 0 \r\nL 9.078125 0 \r\nL 9.078125 54.6875 \r\nL 18.109375 54.6875 \r\nL 18.109375 46.1875 \r\nQ 20.953125 51.171875 25.484375 53.578125 \r\nQ 30.03125 56 36.53125 56 \r\nQ 37.453125 56 38.578125 55.875 \r\nQ 39.703125 55.765625 41.0625 55.515625 \r\nz\r\n\" id=\"DejaVuSans-114\"/>\r\n       <path d=\"M 34.28125 27.484375 \r\nQ 23.390625 27.484375 19.1875 25 \r\nQ 14.984375 22.515625 14.984375 16.5 \r\nQ 14.984375 11.71875 18.140625 8.90625 \r\nQ 21.296875 6.109375 26.703125 6.109375 \r\nQ 34.1875 6.109375 38.703125 11.40625 \r\nQ 43.21875 16.703125 43.21875 25.484375 \r\nL 43.21875 27.484375 \r\nz\r\nM 52.203125 31.203125 \r\nL 52.203125 0 \r\nL 43.21875 0 \r\nL 43.21875 8.296875 \r\nQ 40.140625 3.328125 35.546875 0.953125 \r\nQ 30.953125 -1.421875 24.3125 -1.421875 \r\nQ 15.921875 -1.421875 10.953125 3.296875 \r\nQ 6 8.015625 6 15.921875 \r\nQ 6 25.140625 12.171875 29.828125 \r\nQ 18.359375 34.515625 30.609375 34.515625 \r\nL 43.21875 34.515625 \r\nL 43.21875 35.40625 \r\nQ 43.21875 41.609375 39.140625 45 \r\nQ 35.0625 48.390625 27.6875 48.390625 \r\nQ 23 48.390625 18.546875 47.265625 \r\nQ 14.109375 46.140625 10.015625 43.890625 \r\nL 10.015625 52.203125 \r\nQ 14.9375 54.109375 19.578125 55.046875 \r\nQ 24.21875 56 28.609375 56 \r\nQ 40.484375 56 46.34375 49.84375 \r\nQ 52.203125 43.703125 52.203125 31.203125 \r\nz\r\n\" id=\"DejaVuSans-97\"/>\r\n       <path d=\"M 9.421875 54.6875 \r\nL 18.40625 54.6875 \r\nL 18.40625 0 \r\nL 9.421875 0 \r\nz\r\nM 9.421875 75.984375 \r\nL 18.40625 75.984375 \r\nL 18.40625 64.59375 \r\nL 9.421875 64.59375 \r\nz\r\n\" id=\"DejaVuSans-105\"/>\r\n       <path d=\"M 54.890625 33.015625 \r\nL 54.890625 0 \r\nL 45.90625 0 \r\nL 45.90625 32.71875 \r\nQ 45.90625 40.484375 42.875 44.328125 \r\nQ 39.84375 48.1875 33.796875 48.1875 \r\nQ 26.515625 48.1875 22.3125 43.546875 \r\nQ 18.109375 38.921875 18.109375 30.90625 \r\nL 18.109375 0 \r\nL 9.078125 0 \r\nL 9.078125 54.6875 \r\nL 18.109375 54.6875 \r\nL 18.109375 46.1875 \r\nQ 21.34375 51.125 25.703125 53.5625 \r\nQ 30.078125 56 35.796875 56 \r\nQ 45.21875 56 50.046875 50.171875 \r\nQ 54.890625 44.34375 54.890625 33.015625 \r\nz\r\n\" id=\"DejaVuSans-110\"/>\r\n       <path d=\"M 45.40625 27.984375 \r\nQ 45.40625 37.75 41.375 43.109375 \r\nQ 37.359375 48.484375 30.078125 48.484375 \r\nQ 22.859375 48.484375 18.828125 43.109375 \r\nQ 14.796875 37.75 14.796875 27.984375 \r\nQ 14.796875 18.265625 18.828125 12.890625 \r\nQ 22.859375 7.515625 30.078125 7.515625 \r\nQ 37.359375 7.515625 41.375 12.890625 \r\nQ 45.40625 18.265625 45.40625 27.984375 \r\nz\r\nM 54.390625 6.78125 \r\nQ 54.390625 -7.171875 48.1875 -13.984375 \r\nQ 42 -20.796875 29.203125 -20.796875 \r\nQ 24.46875 -20.796875 20.265625 -20.09375 \r\nQ 16.0625 -19.390625 12.109375 -17.921875 \r\nL 12.109375 -9.1875 \r\nQ 16.0625 -11.328125 19.921875 -12.34375 \r\nQ 23.78125 -13.375 27.78125 -13.375 \r\nQ 36.625 -13.375 41.015625 -8.765625 \r\nQ 45.40625 -4.15625 45.40625 5.171875 \r\nL 45.40625 9.625 \r\nQ 42.625 4.78125 38.28125 2.390625 \r\nQ 33.9375 0 27.875 0 \r\nQ 17.828125 0 11.671875 7.65625 \r\nQ 5.515625 15.328125 5.515625 27.984375 \r\nQ 5.515625 40.671875 11.671875 48.328125 \r\nQ 17.828125 56 27.875 56 \r\nQ 33.9375 56 38.28125 53.609375 \r\nQ 42.625 51.21875 45.40625 46.390625 \r\nL 45.40625 54.6875 \r\nL 54.390625 54.6875 \r\nz\r\n\" id=\"DejaVuSans-103\"/>\r\n       <path id=\"DejaVuSans-32\"/>\r\n       <path d=\"M 48.78125 52.59375 \r\nL 48.78125 44.1875 \r\nQ 44.96875 46.296875 41.140625 47.34375 \r\nQ 37.3125 48.390625 33.40625 48.390625 \r\nQ 24.65625 48.390625 19.8125 42.84375 \r\nQ 14.984375 37.3125 14.984375 27.296875 \r\nQ 14.984375 17.28125 19.8125 11.734375 \r\nQ 24.65625 6.203125 33.40625 6.203125 \r\nQ 37.3125 6.203125 41.140625 7.25 \r\nQ 44.96875 8.296875 48.78125 10.40625 \r\nL 48.78125 2.09375 \r\nQ 45.015625 0.34375 40.984375 -0.53125 \r\nQ 36.96875 -1.421875 32.421875 -1.421875 \r\nQ 20.0625 -1.421875 12.78125 6.34375 \r\nQ 5.515625 14.109375 5.515625 27.296875 \r\nQ 5.515625 40.671875 12.859375 48.328125 \r\nQ 20.21875 56 33.015625 56 \r\nQ 37.15625 56 41.109375 55.140625 \r\nQ 45.0625 54.296875 48.78125 52.59375 \r\nz\r\n\" id=\"DejaVuSans-99\"/>\r\n       <path d=\"M 8.5 21.578125 \r\nL 8.5 54.6875 \r\nL 17.484375 54.6875 \r\nL 17.484375 21.921875 \r\nQ 17.484375 14.15625 20.5 10.265625 \r\nQ 23.53125 6.390625 29.59375 6.390625 \r\nQ 36.859375 6.390625 41.078125 11.03125 \r\nQ 45.3125 15.671875 45.3125 23.6875 \r\nL 45.3125 54.6875 \r\nL 54.296875 54.6875 \r\nL 54.296875 0 \r\nL 45.3125 0 \r\nL 45.3125 8.40625 \r\nQ 42.046875 3.421875 37.71875 1 \r\nQ 33.40625 -1.421875 27.6875 -1.421875 \r\nQ 18.265625 -1.421875 13.375 4.4375 \r\nQ 8.5 10.296875 8.5 21.578125 \r\nz\r\nM 31.109375 56 \r\nz\r\n\" id=\"DejaVuSans-117\"/>\r\n       <path d=\"M 32.171875 -5.078125 \r\nQ 28.375 -14.84375 24.75 -17.8125 \r\nQ 21.140625 -20.796875 15.09375 -20.796875 \r\nL 7.90625 -20.796875 \r\nL 7.90625 -13.28125 \r\nL 13.1875 -13.28125 \r\nQ 16.890625 -13.28125 18.9375 -11.515625 \r\nQ 21 -9.765625 23.484375 -3.21875 \r\nL 25.09375 0.875 \r\nL 2.984375 54.6875 \r\nL 12.5 54.6875 \r\nL 29.59375 11.921875 \r\nL 46.6875 54.6875 \r\nL 56.203125 54.6875 \r\nz\r\n\" id=\"DejaVuSans-121\"/>\r\n      </defs>\r\n      <use xlink:href=\"#DejaVuSans-84\"/>\r\n      <use x=\"46.333984\" xlink:href=\"#DejaVuSans-114\"/>\r\n      <use x=\"87.447266\" xlink:href=\"#DejaVuSans-97\"/>\r\n      <use x=\"148.726562\" xlink:href=\"#DejaVuSans-105\"/>\r\n      <use x=\"176.509766\" xlink:href=\"#DejaVuSans-110\"/>\r\n      <use x=\"239.888672\" xlink:href=\"#DejaVuSans-105\"/>\r\n      <use x=\"267.671875\" xlink:href=\"#DejaVuSans-110\"/>\r\n      <use x=\"331.050781\" xlink:href=\"#DejaVuSans-103\"/>\r\n      <use x=\"394.527344\" xlink:href=\"#DejaVuSans-32\"/>\r\n      <use x=\"426.314453\" xlink:href=\"#DejaVuSans-97\"/>\r\n      <use x=\"487.59375\" xlink:href=\"#DejaVuSans-99\"/>\r\n      <use x=\"542.574219\" xlink:href=\"#DejaVuSans-99\"/>\r\n      <use x=\"597.554688\" xlink:href=\"#DejaVuSans-117\"/>\r\n      <use x=\"660.933594\" xlink:href=\"#DejaVuSans-114\"/>\r\n      <use x=\"702.046875\" xlink:href=\"#DejaVuSans-97\"/>\r\n      <use x=\"763.326172\" xlink:href=\"#DejaVuSans-99\"/>\r\n      <use x=\"818.306641\" xlink:href=\"#DejaVuSans-121\"/>\r\n     </g>\r\n    </g>\r\n    <g id=\"line2d_18\">\r\n     <path d=\"M 52.78125 34.976562 \r\nL 72.78125 34.976562 \r\n\" style=\"fill:none;stroke:#bfbf00;stroke-linecap:square;stroke-width:1.5;\"/>\r\n    </g>\r\n    <g id=\"line2d_19\"/>\r\n    <g id=\"text_15\">\r\n     <!-- Validation accuracy -->\r\n     <g transform=\"translate(80.78125 38.476562)scale(0.1 -0.1)\">\r\n      <defs>\r\n       <path d=\"M 28.609375 0 \r\nL 0.78125 72.90625 \r\nL 11.078125 72.90625 \r\nL 34.1875 11.53125 \r\nL 57.328125 72.90625 \r\nL 67.578125 72.90625 \r\nL 39.796875 0 \r\nz\r\n\" id=\"DejaVuSans-86\"/>\r\n       <path d=\"M 9.421875 75.984375 \r\nL 18.40625 75.984375 \r\nL 18.40625 0 \r\nL 9.421875 0 \r\nz\r\n\" id=\"DejaVuSans-108\"/>\r\n       <path d=\"M 45.40625 46.390625 \r\nL 45.40625 75.984375 \r\nL 54.390625 75.984375 \r\nL 54.390625 0 \r\nL 45.40625 0 \r\nL 45.40625 8.203125 \r\nQ 42.578125 3.328125 38.25 0.953125 \r\nQ 33.9375 -1.421875 27.875 -1.421875 \r\nQ 17.96875 -1.421875 11.734375 6.484375 \r\nQ 5.515625 14.40625 5.515625 27.296875 \r\nQ 5.515625 40.1875 11.734375 48.09375 \r\nQ 17.96875 56 27.875 56 \r\nQ 33.9375 56 38.25 53.625 \r\nQ 42.578125 51.265625 45.40625 46.390625 \r\nz\r\nM 14.796875 27.296875 \r\nQ 14.796875 17.390625 18.875 11.75 \r\nQ 22.953125 6.109375 30.078125 6.109375 \r\nQ 37.203125 6.109375 41.296875 11.75 \r\nQ 45.40625 17.390625 45.40625 27.296875 \r\nQ 45.40625 37.203125 41.296875 42.84375 \r\nQ 37.203125 48.484375 30.078125 48.484375 \r\nQ 22.953125 48.484375 18.875 42.84375 \r\nQ 14.796875 37.203125 14.796875 27.296875 \r\nz\r\n\" id=\"DejaVuSans-100\"/>\r\n       <path d=\"M 18.3125 70.21875 \r\nL 18.3125 54.6875 \r\nL 36.8125 54.6875 \r\nL 36.8125 47.703125 \r\nL 18.3125 47.703125 \r\nL 18.3125 18.015625 \r\nQ 18.3125 11.328125 20.140625 9.421875 \r\nQ 21.96875 7.515625 27.59375 7.515625 \r\nL 36.8125 7.515625 \r\nL 36.8125 0 \r\nL 27.59375 0 \r\nQ 17.1875 0 13.234375 3.875 \r\nQ 9.28125 7.765625 9.28125 18.015625 \r\nL 9.28125 47.703125 \r\nL 2.6875 47.703125 \r\nL 2.6875 54.6875 \r\nL 9.28125 54.6875 \r\nL 9.28125 70.21875 \r\nz\r\n\" id=\"DejaVuSans-116\"/>\r\n       <path d=\"M 30.609375 48.390625 \r\nQ 23.390625 48.390625 19.1875 42.75 \r\nQ 14.984375 37.109375 14.984375 27.296875 \r\nQ 14.984375 17.484375 19.15625 11.84375 \r\nQ 23.34375 6.203125 30.609375 6.203125 \r\nQ 37.796875 6.203125 41.984375 11.859375 \r\nQ 46.1875 17.53125 46.1875 27.296875 \r\nQ 46.1875 37.015625 41.984375 42.703125 \r\nQ 37.796875 48.390625 30.609375 48.390625 \r\nz\r\nM 30.609375 56 \r\nQ 42.328125 56 49.015625 48.375 \r\nQ 55.71875 40.765625 55.71875 27.296875 \r\nQ 55.71875 13.875 49.015625 6.21875 \r\nQ 42.328125 -1.421875 30.609375 -1.421875 \r\nQ 18.84375 -1.421875 12.171875 6.21875 \r\nQ 5.515625 13.875 5.515625 27.296875 \r\nQ 5.515625 40.765625 12.171875 48.375 \r\nQ 18.84375 56 30.609375 56 \r\nz\r\n\" id=\"DejaVuSans-111\"/>\r\n      </defs>\r\n      <use xlink:href=\"#DejaVuSans-86\"/>\r\n      <use x=\"60.658203\" xlink:href=\"#DejaVuSans-97\"/>\r\n      <use x=\"121.9375\" xlink:href=\"#DejaVuSans-108\"/>\r\n      <use x=\"149.720703\" xlink:href=\"#DejaVuSans-105\"/>\r\n      <use x=\"177.503906\" xlink:href=\"#DejaVuSans-100\"/>\r\n      <use x=\"240.980469\" xlink:href=\"#DejaVuSans-97\"/>\r\n      <use x=\"302.259766\" xlink:href=\"#DejaVuSans-116\"/>\r\n      <use x=\"341.46875\" xlink:href=\"#DejaVuSans-105\"/>\r\n      <use x=\"369.251953\" xlink:href=\"#DejaVuSans-111\"/>\r\n      <use x=\"430.433594\" xlink:href=\"#DejaVuSans-110\"/>\r\n      <use x=\"493.8125\" xlink:href=\"#DejaVuSans-32\"/>\r\n      <use x=\"525.599609\" xlink:href=\"#DejaVuSans-97\"/>\r\n      <use x=\"586.878906\" xlink:href=\"#DejaVuSans-99\"/>\r\n      <use x=\"641.859375\" xlink:href=\"#DejaVuSans-99\"/>\r\n      <use x=\"696.839844\" xlink:href=\"#DejaVuSans-117\"/>\r\n      <use x=\"760.21875\" xlink:href=\"#DejaVuSans-114\"/>\r\n      <use x=\"801.332031\" xlink:href=\"#DejaVuSans-97\"/>\r\n      <use x=\"862.611328\" xlink:href=\"#DejaVuSans-99\"/>\r\n      <use x=\"917.591797\" xlink:href=\"#DejaVuSans-121\"/>\r\n     </g>\r\n    </g>\r\n   </g>\r\n  </g>\r\n  <g id=\"axes_2\">\r\n   <g id=\"patch_8\">\r\n    <path d=\"M 43.78125 224.64 \r\nL 378.58125 224.64 \r\nL 378.58125 125.803636 \r\nL 43.78125 125.803636 \r\nz\r\n\" style=\"fill:#ffffff;\"/>\r\n   </g>\r\n   <g id=\"matplotlib.axis_3\">\r\n    <g id=\"xtick_10\">\r\n     <g id=\"line2d_20\">\r\n      <g>\r\n       <use style=\"stroke:#000000;stroke-width:0.8;\" x=\"58.999432\" xlink:href=\"#maf0bd3f7f9\" y=\"224.64\"/>\r\n      </g>\r\n     </g>\r\n     <g id=\"text_16\">\r\n      <!-- 0.0 -->\r\n      <g transform=\"translate(51.047869 239.238437)scale(0.1 -0.1)\">\r\n       <use xlink:href=\"#DejaVuSans-48\"/>\r\n       <use x=\"63.623047\" xlink:href=\"#DejaVuSans-46\"/>\r\n       <use x=\"95.410156\" xlink:href=\"#DejaVuSans-48\"/>\r\n      </g>\r\n     </g>\r\n    </g>\r\n    <g id=\"xtick_11\">\r\n     <g id=\"line2d_21\">\r\n      <g>\r\n       <use style=\"stroke:#000000;stroke-width:0.8;\" x=\"97.044886\" xlink:href=\"#maf0bd3f7f9\" y=\"224.64\"/>\r\n      </g>\r\n     </g>\r\n     <g id=\"text_17\">\r\n      <!-- 0.5 -->\r\n      <g transform=\"translate(89.093324 239.238437)scale(0.1 -0.1)\">\r\n       <use xlink:href=\"#DejaVuSans-48\"/>\r\n       <use x=\"63.623047\" xlink:href=\"#DejaVuSans-46\"/>\r\n       <use x=\"95.410156\" xlink:href=\"#DejaVuSans-53\"/>\r\n      </g>\r\n     </g>\r\n    </g>\r\n    <g id=\"xtick_12\">\r\n     <g id=\"line2d_22\">\r\n      <g>\r\n       <use style=\"stroke:#000000;stroke-width:0.8;\" x=\"135.090341\" xlink:href=\"#maf0bd3f7f9\" y=\"224.64\"/>\r\n      </g>\r\n     </g>\r\n     <g id=\"text_18\">\r\n      <!-- 1.0 -->\r\n      <g transform=\"translate(127.138778 239.238437)scale(0.1 -0.1)\">\r\n       <use xlink:href=\"#DejaVuSans-49\"/>\r\n       <use x=\"63.623047\" xlink:href=\"#DejaVuSans-46\"/>\r\n       <use x=\"95.410156\" xlink:href=\"#DejaVuSans-48\"/>\r\n      </g>\r\n     </g>\r\n    </g>\r\n    <g id=\"xtick_13\">\r\n     <g id=\"line2d_23\">\r\n      <g>\r\n       <use style=\"stroke:#000000;stroke-width:0.8;\" x=\"173.135795\" xlink:href=\"#maf0bd3f7f9\" y=\"224.64\"/>\r\n      </g>\r\n     </g>\r\n     <g id=\"text_19\">\r\n      <!-- 1.5 -->\r\n      <g transform=\"translate(165.184233 239.238437)scale(0.1 -0.1)\">\r\n       <use xlink:href=\"#DejaVuSans-49\"/>\r\n       <use x=\"63.623047\" xlink:href=\"#DejaVuSans-46\"/>\r\n       <use x=\"95.410156\" xlink:href=\"#DejaVuSans-53\"/>\r\n      </g>\r\n     </g>\r\n    </g>\r\n    <g id=\"xtick_14\">\r\n     <g id=\"line2d_24\">\r\n      <g>\r\n       <use style=\"stroke:#000000;stroke-width:0.8;\" x=\"211.18125\" xlink:href=\"#maf0bd3f7f9\" y=\"224.64\"/>\r\n      </g>\r\n     </g>\r\n     <g id=\"text_20\">\r\n      <!-- 2.0 -->\r\n      <g transform=\"translate(203.229688 239.238437)scale(0.1 -0.1)\">\r\n       <use xlink:href=\"#DejaVuSans-50\"/>\r\n       <use x=\"63.623047\" xlink:href=\"#DejaVuSans-46\"/>\r\n       <use x=\"95.410156\" xlink:href=\"#DejaVuSans-48\"/>\r\n      </g>\r\n     </g>\r\n    </g>\r\n    <g id=\"xtick_15\">\r\n     <g id=\"line2d_25\">\r\n      <g>\r\n       <use style=\"stroke:#000000;stroke-width:0.8;\" x=\"249.226705\" xlink:href=\"#maf0bd3f7f9\" y=\"224.64\"/>\r\n      </g>\r\n     </g>\r\n     <g id=\"text_21\">\r\n      <!-- 2.5 -->\r\n      <g transform=\"translate(241.275142 239.238437)scale(0.1 -0.1)\">\r\n       <use xlink:href=\"#DejaVuSans-50\"/>\r\n       <use x=\"63.623047\" xlink:href=\"#DejaVuSans-46\"/>\r\n       <use x=\"95.410156\" xlink:href=\"#DejaVuSans-53\"/>\r\n      </g>\r\n     </g>\r\n    </g>\r\n    <g id=\"xtick_16\">\r\n     <g id=\"line2d_26\">\r\n      <g>\r\n       <use style=\"stroke:#000000;stroke-width:0.8;\" x=\"287.272159\" xlink:href=\"#maf0bd3f7f9\" y=\"224.64\"/>\r\n      </g>\r\n     </g>\r\n     <g id=\"text_22\">\r\n      <!-- 3.0 -->\r\n      <g transform=\"translate(279.320597 239.238437)scale(0.1 -0.1)\">\r\n       <use xlink:href=\"#DejaVuSans-51\"/>\r\n       <use x=\"63.623047\" xlink:href=\"#DejaVuSans-46\"/>\r\n       <use x=\"95.410156\" xlink:href=\"#DejaVuSans-48\"/>\r\n      </g>\r\n     </g>\r\n    </g>\r\n    <g id=\"xtick_17\">\r\n     <g id=\"line2d_27\">\r\n      <g>\r\n       <use style=\"stroke:#000000;stroke-width:0.8;\" x=\"325.317614\" xlink:href=\"#maf0bd3f7f9\" y=\"224.64\"/>\r\n      </g>\r\n     </g>\r\n     <g id=\"text_23\">\r\n      <!-- 3.5 -->\r\n      <g transform=\"translate(317.366051 239.238437)scale(0.1 -0.1)\">\r\n       <use xlink:href=\"#DejaVuSans-51\"/>\r\n       <use x=\"63.623047\" xlink:href=\"#DejaVuSans-46\"/>\r\n       <use x=\"95.410156\" xlink:href=\"#DejaVuSans-53\"/>\r\n      </g>\r\n     </g>\r\n    </g>\r\n    <g id=\"xtick_18\">\r\n     <g id=\"line2d_28\">\r\n      <g>\r\n       <use style=\"stroke:#000000;stroke-width:0.8;\" x=\"363.363068\" xlink:href=\"#maf0bd3f7f9\" y=\"224.64\"/>\r\n      </g>\r\n     </g>\r\n     <g id=\"text_24\">\r\n      <!-- 4.0 -->\r\n      <g transform=\"translate(355.411506 239.238437)scale(0.1 -0.1)\">\r\n       <use xlink:href=\"#DejaVuSans-52\"/>\r\n       <use x=\"63.623047\" xlink:href=\"#DejaVuSans-46\"/>\r\n       <use x=\"95.410156\" xlink:href=\"#DejaVuSans-48\"/>\r\n      </g>\r\n     </g>\r\n    </g>\r\n    <g id=\"text_25\">\r\n     <!-- Epoch -->\r\n     <g transform=\"translate(195.870313 252.916562)scale(0.1 -0.1)\">\r\n      <defs>\r\n       <path d=\"M 9.8125 72.90625 \r\nL 55.90625 72.90625 \r\nL 55.90625 64.59375 \r\nL 19.671875 64.59375 \r\nL 19.671875 43.015625 \r\nL 54.390625 43.015625 \r\nL 54.390625 34.71875 \r\nL 19.671875 34.71875 \r\nL 19.671875 8.296875 \r\nL 56.78125 8.296875 \r\nL 56.78125 0 \r\nL 9.8125 0 \r\nz\r\n\" id=\"DejaVuSans-69\"/>\r\n       <path d=\"M 18.109375 8.203125 \r\nL 18.109375 -20.796875 \r\nL 9.078125 -20.796875 \r\nL 9.078125 54.6875 \r\nL 18.109375 54.6875 \r\nL 18.109375 46.390625 \r\nQ 20.953125 51.265625 25.265625 53.625 \r\nQ 29.59375 56 35.59375 56 \r\nQ 45.5625 56 51.78125 48.09375 \r\nQ 58.015625 40.1875 58.015625 27.296875 \r\nQ 58.015625 14.40625 51.78125 6.484375 \r\nQ 45.5625 -1.421875 35.59375 -1.421875 \r\nQ 29.59375 -1.421875 25.265625 0.953125 \r\nQ 20.953125 3.328125 18.109375 8.203125 \r\nz\r\nM 48.6875 27.296875 \r\nQ 48.6875 37.203125 44.609375 42.84375 \r\nQ 40.53125 48.484375 33.40625 48.484375 \r\nQ 26.265625 48.484375 22.1875 42.84375 \r\nQ 18.109375 37.203125 18.109375 27.296875 \r\nQ 18.109375 17.390625 22.1875 11.75 \r\nQ 26.265625 6.109375 33.40625 6.109375 \r\nQ 40.53125 6.109375 44.609375 11.75 \r\nQ 48.6875 17.390625 48.6875 27.296875 \r\nz\r\n\" id=\"DejaVuSans-112\"/>\r\n       <path d=\"M 54.890625 33.015625 \r\nL 54.890625 0 \r\nL 45.90625 0 \r\nL 45.90625 32.71875 \r\nQ 45.90625 40.484375 42.875 44.328125 \r\nQ 39.84375 48.1875 33.796875 48.1875 \r\nQ 26.515625 48.1875 22.3125 43.546875 \r\nQ 18.109375 38.921875 18.109375 30.90625 \r\nL 18.109375 0 \r\nL 9.078125 0 \r\nL 9.078125 75.984375 \r\nL 18.109375 75.984375 \r\nL 18.109375 46.1875 \r\nQ 21.34375 51.125 25.703125 53.5625 \r\nQ 30.078125 56 35.796875 56 \r\nQ 45.21875 56 50.046875 50.171875 \r\nQ 54.890625 44.34375 54.890625 33.015625 \r\nz\r\n\" id=\"DejaVuSans-104\"/>\r\n      </defs>\r\n      <use xlink:href=\"#DejaVuSans-69\"/>\r\n      <use x=\"63.183594\" xlink:href=\"#DejaVuSans-112\"/>\r\n      <use x=\"126.660156\" xlink:href=\"#DejaVuSans-111\"/>\r\n      <use x=\"187.841797\" xlink:href=\"#DejaVuSans-99\"/>\r\n      <use x=\"242.822266\" xlink:href=\"#DejaVuSans-104\"/>\r\n     </g>\r\n    </g>\r\n   </g>\r\n   <g id=\"matplotlib.axis_4\">\r\n    <g id=\"ytick_5\">\r\n     <g id=\"line2d_29\">\r\n      <g>\r\n       <use style=\"stroke:#000000;stroke-width:0.8;\" x=\"43.78125\" xlink:href=\"#m89e4e64f84\" y=\"200.270388\"/>\r\n      </g>\r\n     </g>\r\n     <g id=\"text_26\">\r\n      <!-- 2.9 -->\r\n      <g transform=\"translate(20.878125 204.069606)scale(0.1 -0.1)\">\r\n       <defs>\r\n        <path d=\"M 10.984375 1.515625 \r\nL 10.984375 10.5 \r\nQ 14.703125 8.734375 18.5 7.8125 \r\nQ 22.3125 6.890625 25.984375 6.890625 \r\nQ 35.75 6.890625 40.890625 13.453125 \r\nQ 46.046875 20.015625 46.78125 33.40625 \r\nQ 43.953125 29.203125 39.59375 26.953125 \r\nQ 35.25 24.703125 29.984375 24.703125 \r\nQ 19.046875 24.703125 12.671875 31.3125 \r\nQ 6.296875 37.9375 6.296875 49.421875 \r\nQ 6.296875 60.640625 12.9375 67.421875 \r\nQ 19.578125 74.21875 30.609375 74.21875 \r\nQ 43.265625 74.21875 49.921875 64.515625 \r\nQ 56.59375 54.828125 56.59375 36.375 \r\nQ 56.59375 19.140625 48.40625 8.859375 \r\nQ 40.234375 -1.421875 26.421875 -1.421875 \r\nQ 22.703125 -1.421875 18.890625 -0.6875 \r\nQ 15.09375 0.046875 10.984375 1.515625 \r\nz\r\nM 30.609375 32.421875 \r\nQ 37.25 32.421875 41.125 36.953125 \r\nQ 45.015625 41.5 45.015625 49.421875 \r\nQ 45.015625 57.28125 41.125 61.84375 \r\nQ 37.25 66.40625 30.609375 66.40625 \r\nQ 23.96875 66.40625 20.09375 61.84375 \r\nQ 16.21875 57.28125 16.21875 49.421875 \r\nQ 16.21875 41.5 20.09375 36.953125 \r\nQ 23.96875 32.421875 30.609375 32.421875 \r\nz\r\n\" id=\"DejaVuSans-57\"/>\r\n       </defs>\r\n       <use xlink:href=\"#DejaVuSans-50\"/>\r\n       <use x=\"63.623047\" xlink:href=\"#DejaVuSans-46\"/>\r\n       <use x=\"95.410156\" xlink:href=\"#DejaVuSans-57\"/>\r\n      </g>\r\n     </g>\r\n    </g>\r\n    <g id=\"ytick_6\">\r\n     <g id=\"line2d_30\">\r\n      <g>\r\n       <use style=\"stroke:#000000;stroke-width:0.8;\" x=\"43.78125\" xlink:href=\"#m89e4e64f84\" y=\"165.243107\"/>\r\n      </g>\r\n     </g>\r\n     <g id=\"text_27\">\r\n      <!-- 3.0 -->\r\n      <g transform=\"translate(20.878125 169.042326)scale(0.1 -0.1)\">\r\n       <use xlink:href=\"#DejaVuSans-51\"/>\r\n       <use x=\"63.623047\" xlink:href=\"#DejaVuSans-46\"/>\r\n       <use x=\"95.410156\" xlink:href=\"#DejaVuSans-48\"/>\r\n      </g>\r\n     </g>\r\n    </g>\r\n    <g id=\"ytick_7\">\r\n     <g id=\"line2d_31\">\r\n      <g>\r\n       <use style=\"stroke:#000000;stroke-width:0.8;\" x=\"43.78125\" xlink:href=\"#m89e4e64f84\" y=\"130.215827\"/>\r\n      </g>\r\n     </g>\r\n     <g id=\"text_28\">\r\n      <!-- 3.1 -->\r\n      <g transform=\"translate(20.878125 134.015046)scale(0.1 -0.1)\">\r\n       <use xlink:href=\"#DejaVuSans-51\"/>\r\n       <use x=\"63.623047\" xlink:href=\"#DejaVuSans-46\"/>\r\n       <use x=\"95.410156\" xlink:href=\"#DejaVuSans-49\"/>\r\n      </g>\r\n     </g>\r\n    </g>\r\n    <g id=\"text_29\">\r\n     <!-- Value -->\r\n     <g transform=\"translate(14.798438 188.953068)rotate(-90)scale(0.1 -0.1)\">\r\n      <defs>\r\n       <path d=\"M 56.203125 29.59375 \r\nL 56.203125 25.203125 \r\nL 14.890625 25.203125 \r\nQ 15.484375 15.921875 20.484375 11.0625 \r\nQ 25.484375 6.203125 34.421875 6.203125 \r\nQ 39.59375 6.203125 44.453125 7.46875 \r\nQ 49.3125 8.734375 54.109375 11.28125 \r\nL 54.109375 2.78125 \r\nQ 49.265625 0.734375 44.1875 -0.34375 \r\nQ 39.109375 -1.421875 33.890625 -1.421875 \r\nQ 20.796875 -1.421875 13.15625 6.1875 \r\nQ 5.515625 13.8125 5.515625 26.8125 \r\nQ 5.515625 40.234375 12.765625 48.109375 \r\nQ 20.015625 56 32.328125 56 \r\nQ 43.359375 56 49.78125 48.890625 \r\nQ 56.203125 41.796875 56.203125 29.59375 \r\nz\r\nM 47.21875 32.234375 \r\nQ 47.125 39.59375 43.09375 43.984375 \r\nQ 39.0625 48.390625 32.421875 48.390625 \r\nQ 24.90625 48.390625 20.390625 44.140625 \r\nQ 15.875 39.890625 15.1875 32.171875 \r\nz\r\n\" id=\"DejaVuSans-101\"/>\r\n      </defs>\r\n      <use xlink:href=\"#DejaVuSans-86\"/>\r\n      <use x=\"60.658203\" xlink:href=\"#DejaVuSans-97\"/>\r\n      <use x=\"121.9375\" xlink:href=\"#DejaVuSans-108\"/>\r\n      <use x=\"149.720703\" xlink:href=\"#DejaVuSans-117\"/>\r\n      <use x=\"213.099609\" xlink:href=\"#DejaVuSans-101\"/>\r\n     </g>\r\n    </g>\r\n   </g>\r\n   <g id=\"line2d_32\">\r\n    <path clip-path=\"url(#p16ca6abb28)\" d=\"M 58.999432 130.296198 \r\nL 135.090341 179.230539 \r\nL 211.18125 189.46396 \r\nL 287.272159 202.42228 \r\nL 363.363068 213.781771 \r\n\" style=\"fill:none;stroke:#0000ff;stroke-linecap:square;stroke-width:1.5;\"/>\r\n   </g>\r\n   <g id=\"line2d_33\">\r\n    <path clip-path=\"url(#p16ca6abb28)\" d=\"M 58.999432 176.309138 \r\nL 135.090341 187.222594 \r\nL 211.18125 203.973757 \r\nL 287.272159 203.618833 \r\nL 363.363068 220.147438 \r\n\" style=\"fill:none;stroke:#bfbf00;stroke-linecap:square;stroke-width:1.5;\"/>\r\n   </g>\r\n   <g id=\"patch_9\">\r\n    <path d=\"M 43.78125 224.64 \r\nL 43.78125 125.803636 \r\n\" style=\"fill:none;stroke:#000000;stroke-linecap:square;stroke-linejoin:miter;stroke-width:0.8;\"/>\r\n   </g>\r\n   <g id=\"patch_10\">\r\n    <path d=\"M 378.58125 224.64 \r\nL 378.58125 125.803636 \r\n\" style=\"fill:none;stroke:#000000;stroke-linecap:square;stroke-linejoin:miter;stroke-width:0.8;\"/>\r\n   </g>\r\n   <g id=\"patch_11\">\r\n    <path d=\"M 43.78125 224.64 \r\nL 378.58125 224.64 \r\n\" style=\"fill:none;stroke:#000000;stroke-linecap:square;stroke-linejoin:miter;stroke-width:0.8;\"/>\r\n   </g>\r\n   <g id=\"patch_12\">\r\n    <path d=\"M 43.78125 125.803636 \r\nL 378.58125 125.803636 \r\n\" style=\"fill:none;stroke:#000000;stroke-linecap:square;stroke-linejoin:miter;stroke-width:0.8;\"/>\r\n   </g>\r\n   <g id=\"legend_2\">\r\n    <g id=\"patch_13\">\r\n     <path d=\"M 267.70625 163.159886 \r\nL 371.58125 163.159886 \r\nQ 373.58125 163.159886 373.58125 161.159886 \r\nL 373.58125 132.803636 \r\nQ 373.58125 130.803636 371.58125 130.803636 \r\nL 267.70625 130.803636 \r\nQ 265.70625 130.803636 265.70625 132.803636 \r\nL 265.70625 161.159886 \r\nQ 265.70625 163.159886 267.70625 163.159886 \r\nz\r\n\" style=\"fill:#ffffff;opacity:0.8;stroke:#cccccc;stroke-linejoin:miter;\"/>\r\n    </g>\r\n    <g id=\"line2d_34\">\r\n     <path d=\"M 269.70625 138.902074 \r\nL 289.70625 138.902074 \r\n\" style=\"fill:none;stroke:#0000ff;stroke-linecap:square;stroke-width:1.5;\"/>\r\n    </g>\r\n    <g id=\"line2d_35\"/>\r\n    <g id=\"text_30\">\r\n     <!-- Training loss -->\r\n     <g transform=\"translate(297.70625 142.402074)scale(0.1 -0.1)\">\r\n      <defs>\r\n       <path d=\"M 44.28125 53.078125 \r\nL 44.28125 44.578125 \r\nQ 40.484375 46.53125 36.375 47.5 \r\nQ 32.28125 48.484375 27.875 48.484375 \r\nQ 21.1875 48.484375 17.84375 46.4375 \r\nQ 14.5 44.390625 14.5 40.28125 \r\nQ 14.5 37.15625 16.890625 35.375 \r\nQ 19.28125 33.59375 26.515625 31.984375 \r\nL 29.59375 31.296875 \r\nQ 39.15625 29.25 43.1875 25.515625 \r\nQ 47.21875 21.78125 47.21875 15.09375 \r\nQ 47.21875 7.46875 41.1875 3.015625 \r\nQ 35.15625 -1.421875 24.609375 -1.421875 \r\nQ 20.21875 -1.421875 15.453125 -0.5625 \r\nQ 10.6875 0.296875 5.421875 2 \r\nL 5.421875 11.28125 \r\nQ 10.40625 8.6875 15.234375 7.390625 \r\nQ 20.0625 6.109375 24.8125 6.109375 \r\nQ 31.15625 6.109375 34.5625 8.28125 \r\nQ 37.984375 10.453125 37.984375 14.40625 \r\nQ 37.984375 18.0625 35.515625 20.015625 \r\nQ 33.0625 21.96875 24.703125 23.78125 \r\nL 21.578125 24.515625 \r\nQ 13.234375 26.265625 9.515625 29.90625 \r\nQ 5.8125 33.546875 5.8125 39.890625 \r\nQ 5.8125 47.609375 11.28125 51.796875 \r\nQ 16.75 56 26.8125 56 \r\nQ 31.78125 56 36.171875 55.265625 \r\nQ 40.578125 54.546875 44.28125 53.078125 \r\nz\r\n\" id=\"DejaVuSans-115\"/>\r\n      </defs>\r\n      <use xlink:href=\"#DejaVuSans-84\"/>\r\n      <use x=\"46.333984\" xlink:href=\"#DejaVuSans-114\"/>\r\n      <use x=\"87.447266\" xlink:href=\"#DejaVuSans-97\"/>\r\n      <use x=\"148.726562\" xlink:href=\"#DejaVuSans-105\"/>\r\n      <use x=\"176.509766\" xlink:href=\"#DejaVuSans-110\"/>\r\n      <use x=\"239.888672\" xlink:href=\"#DejaVuSans-105\"/>\r\n      <use x=\"267.671875\" xlink:href=\"#DejaVuSans-110\"/>\r\n      <use x=\"331.050781\" xlink:href=\"#DejaVuSans-103\"/>\r\n      <use x=\"394.527344\" xlink:href=\"#DejaVuSans-32\"/>\r\n      <use x=\"426.314453\" xlink:href=\"#DejaVuSans-108\"/>\r\n      <use x=\"454.097656\" xlink:href=\"#DejaVuSans-111\"/>\r\n      <use x=\"515.279297\" xlink:href=\"#DejaVuSans-115\"/>\r\n      <use x=\"567.378906\" xlink:href=\"#DejaVuSans-115\"/>\r\n     </g>\r\n    </g>\r\n    <g id=\"line2d_36\">\r\n     <path d=\"M 269.70625 153.580199 \r\nL 289.70625 153.580199 \r\n\" style=\"fill:none;stroke:#bfbf00;stroke-linecap:square;stroke-width:1.5;\"/>\r\n    </g>\r\n    <g id=\"line2d_37\"/>\r\n    <g id=\"text_31\">\r\n     <!-- Validation loss -->\r\n     <g transform=\"translate(297.70625 157.080199)scale(0.1 -0.1)\">\r\n      <use xlink:href=\"#DejaVuSans-86\"/>\r\n      <use x=\"60.658203\" xlink:href=\"#DejaVuSans-97\"/>\r\n      <use x=\"121.9375\" xlink:href=\"#DejaVuSans-108\"/>\r\n      <use x=\"149.720703\" xlink:href=\"#DejaVuSans-105\"/>\r\n      <use x=\"177.503906\" xlink:href=\"#DejaVuSans-100\"/>\r\n      <use x=\"240.980469\" xlink:href=\"#DejaVuSans-97\"/>\r\n      <use x=\"302.259766\" xlink:href=\"#DejaVuSans-116\"/>\r\n      <use x=\"341.46875\" xlink:href=\"#DejaVuSans-105\"/>\r\n      <use x=\"369.251953\" xlink:href=\"#DejaVuSans-111\"/>\r\n      <use x=\"430.433594\" xlink:href=\"#DejaVuSans-110\"/>\r\n      <use x=\"493.8125\" xlink:href=\"#DejaVuSans-32\"/>\r\n      <use x=\"525.599609\" xlink:href=\"#DejaVuSans-108\"/>\r\n      <use x=\"553.382812\" xlink:href=\"#DejaVuSans-111\"/>\r\n      <use x=\"614.564453\" xlink:href=\"#DejaVuSans-115\"/>\r\n      <use x=\"666.664062\" xlink:href=\"#DejaVuSans-115\"/>\r\n     </g>\r\n    </g>\r\n   </g>\r\n  </g>\r\n </g>\r\n <defs>\r\n  <clipPath id=\"pdd2b8e6b0a\">\r\n   <rect height=\"98.836364\" width=\"334.8\" x=\"43.78125\" y=\"7.2\"/>\r\n  </clipPath>\r\n  <clipPath id=\"p16ca6abb28\">\r\n   <rect height=\"98.836364\" width=\"334.8\" x=\"43.78125\" y=\"125.803636\"/>\r\n  </clipPath>\r\n </defs>\r\n</svg>\r\n",
      "image/png": "[encoded data removed]"
     },
     "metadata": {
      "needs_background": "light"
     }
    }
   ],
   "source": [
    "acc = history.history['accuracy']\n",
    "val_acc = history.history['val_accuracy']\n",
    "loss = history.history['loss']\n",
    "val_loss = history.history['val_loss']\n",
    "\n",
    "epochs = range(len(acc))\n",
    "\n",
    "fig, axs = plt.subplots(2)\n",
    "axs[0].plot(epochs, acc, 'b', label='Training accuracy')\n",
    "axs[0].plot(epochs, val_acc, 'y', label='Validation accuracy')\n",
    "axs[0].legend(loc=0)\n",
    "\n",
    "axs[1].plot(epochs, loss, 'b', label='Training loss')\n",
    "axs[1].plot(epochs, val_loss, 'y', label='Validation loss')\n",
    "axs[1].set_xlabel('Epoch')\n",
    "axs[1].set_ylabel('Value')\n",
    "axs[1].legend(loc=0)"
   ]
  },
  {
   "cell_type": "code",
   "execution_count": null,
   "id": "39c38d8e-9855-4d74-b12f-16ebcd413550",
   "metadata": {},
   "outputs": [],
   "source": []
  }
 ],
 "metadata": {
  "kernelspec": {
   "name": "python394jvsc74a57bd00359aab60893b2ae81cf58b65751dd49aacce33c63ff3968bf2555ef33ef870d",
   "display_name": "Python 3.9.4 64-bit ('base': conda)"
  },
  "language_info": {
   "codemirror_mode": {
    "name": "ipython",
    "version": 3
   },
   "file_extension": ".py",
   "mimetype": "text/x-python",
   "name": "python",
   "nbconvert_exporter": "python",
   "pygments_lexer": "ipython3",
   "version": "3.9.4"
  },
  "metadata": {
   "interpreter": {
    "hash": "0359aab60893b2ae81cf58b65751dd49aacce33c63ff3968bf2555ef33ef870d"
   }
  }
 },
 "nbformat": 4,
 "nbformat_minor": 5
}